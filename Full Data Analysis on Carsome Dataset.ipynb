{
 "cells": [
  {
   "cell_type": "markdown",
   "id": "3fc54a37",
   "metadata": {},
   "source": [
    "## IMPORTANT LIBRARIES"
   ]
  },
  {
   "cell_type": "code",
   "execution_count": 1,
   "id": "c4b4525d",
   "metadata": {},
   "outputs": [],
   "source": [
    "import seaborn as sns\n",
    "import pandas as pd\n",
    "import numpy as np\n",
    "import matplotlib.pyplot as plt\n",
    "%matplotlib inline\n",
    "import re\n",
    "import warnings\n",
    "warnings.filterwarnings('ignore')"
   ]
  },
  {
   "cell_type": "markdown",
   "id": "5e9d05b2",
   "metadata": {},
   "source": [
    "## Reading CSV file "
   ]
  },
  {
   "cell_type": "code",
   "execution_count": 2,
   "id": "7aeb523e",
   "metadata": {},
   "outputs": [],
   "source": [
    "carsome = pd.read_csv(r\"C:\\Users\\91798\\Desktop\\Data Science\\Data Analysis\\Project\\carsome1.csv\")"
   ]
  },
  {
   "cell_type": "markdown",
   "id": "55004b7e",
   "metadata": {},
   "source": [
    "## Raw Dataset"
   ]
  },
  {
   "cell_type": "code",
   "execution_count": 3,
   "id": "51cdde50",
   "metadata": {},
   "outputs": [
    {
     "data": {
      "text/html": [
       "<div>\n",
       "<style scoped>\n",
       "    .dataframe tbody tr th:only-of-type {\n",
       "        vertical-align: middle;\n",
       "    }\n",
       "\n",
       "    .dataframe tbody tr th {\n",
       "        vertical-align: top;\n",
       "    }\n",
       "\n",
       "    .dataframe thead th {\n",
       "        text-align: right;\n",
       "    }\n",
       "</style>\n",
       "<table border=\"1\" class=\"dataframe\">\n",
       "  <thead>\n",
       "    <tr style=\"text-align: right;\">\n",
       "      <th></th>\n",
       "      <th>carsname</th>\n",
       "      <th>modelname</th>\n",
       "      <th>kilometres</th>\n",
       "      <th>price</th>\n",
       "      <th>features</th>\n",
       "    </tr>\n",
       "  </thead>\n",
       "  <tbody>\n",
       "    <tr>\n",
       "      <th>0</th>\n",
       "      <td>\\n          2016\\n          Mazda\\n         \\n...</td>\n",
       "      <td>\\n          CX-3\\n          2WD\\n          2.0...</td>\n",
       "      <td>94,852 km Automatic Kuala Lumpur</td>\n",
       "      <td>\\n          RM\\n          81,900 \\n          R...</td>\n",
       "      <td>SunroofLeather Seat Touchscreen Audio Display</td>\n",
       "    </tr>\n",
       "    <tr>\n",
       "      <th>1</th>\n",
       "      <td>\\n          2020\\n          Proton\\n         \\...</td>\n",
       "      <td>\\n          X70\\n          EXECUTIVE 2WD\\n    ...</td>\n",
       "      <td>17,279 km Automatic Kuala Lumpur</td>\n",
       "      <td>\\n          RM\\n          96,400 \\n          R...</td>\n",
       "      <td>Electronic SeatsKeyless Push StartTouchscreen...</td>\n",
       "    </tr>\n",
       "    <tr>\n",
       "      <th>2</th>\n",
       "      <td>\\n          2019\\n          Honda\\n         \\n...</td>\n",
       "      <td>\\n          HR-V\\n          RS\\n          1.8\\...</td>\n",
       "      <td>37,761 km Automatic Johor</td>\n",
       "      <td>\\n          RM\\n          95,900 \\n          R...</td>\n",
       "      <td>ABS BrakeKeyless Push StartTouchscreen Audio ...</td>\n",
       "    </tr>\n",
       "    <tr>\n",
       "      <th>3</th>\n",
       "      <td>\\n          2019\\n          Toyota\\n         \\...</td>\n",
       "      <td>\\n          YARIS\\n          G\\n          1.5\\...</td>\n",
       "      <td>10,741 km Automatic Pulau Pinang</td>\n",
       "      <td>\\n          RM\\n          70,400 \\n          R...</td>\n",
       "      <td>Reverse CameraKeyless Push Start</td>\n",
       "    </tr>\n",
       "    <tr>\n",
       "      <th>4</th>\n",
       "      <td>\\n          2015\\n          Perodua\\n         ...</td>\n",
       "      <td>\\n          AXIA\\n          G\\n          1.0\\n...</td>\n",
       "      <td>117,768 km Automatic Selangor</td>\n",
       "      <td>\\n          RM\\n          24,400 \\n          R...</td>\n",
       "      <td>SRS AirbagAlarm SystemFuel Efficiency</td>\n",
       "    </tr>\n",
       "  </tbody>\n",
       "</table>\n",
       "</div>"
      ],
      "text/plain": [
       "                                            carsname  \\\n",
       "0  \\n          2016\\n          Mazda\\n         \\n...   \n",
       "1  \\n          2020\\n          Proton\\n         \\...   \n",
       "2  \\n          2019\\n          Honda\\n         \\n...   \n",
       "3  \\n          2019\\n          Toyota\\n         \\...   \n",
       "4  \\n          2015\\n          Perodua\\n         ...   \n",
       "\n",
       "                                           modelname  \\\n",
       "0  \\n          CX-3\\n          2WD\\n          2.0...   \n",
       "1  \\n          X70\\n          EXECUTIVE 2WD\\n    ...   \n",
       "2  \\n          HR-V\\n          RS\\n          1.8\\...   \n",
       "3  \\n          YARIS\\n          G\\n          1.5\\...   \n",
       "4  \\n          AXIA\\n          G\\n          1.0\\n...   \n",
       "\n",
       "                         kilometres  \\\n",
       "0  94,852 km Automatic Kuala Lumpur   \n",
       "1  17,279 km Automatic Kuala Lumpur   \n",
       "2         37,761 km Automatic Johor   \n",
       "3  10,741 km Automatic Pulau Pinang   \n",
       "4     117,768 km Automatic Selangor   \n",
       "\n",
       "                                               price  \\\n",
       "0  \\n          RM\\n          81,900 \\n          R...   \n",
       "1  \\n          RM\\n          96,400 \\n          R...   \n",
       "2  \\n          RM\\n          95,900 \\n          R...   \n",
       "3  \\n          RM\\n          70,400 \\n          R...   \n",
       "4  \\n          RM\\n          24,400 \\n          R...   \n",
       "\n",
       "                                            features  \n",
       "0     SunroofLeather Seat Touchscreen Audio Display   \n",
       "1   Electronic SeatsKeyless Push StartTouchscreen...  \n",
       "2   ABS BrakeKeyless Push StartTouchscreen Audio ...  \n",
       "3                   Reverse CameraKeyless Push Start  \n",
       "4              SRS AirbagAlarm SystemFuel Efficiency  "
      ]
     },
     "execution_count": 3,
     "metadata": {},
     "output_type": "execute_result"
    }
   ],
   "source": [
    "carsome.head()"
   ]
  },
  {
   "cell_type": "markdown",
   "id": "9c00b0df",
   "metadata": {},
   "source": [
    "## Data Cleaning and Data Manipulation"
   ]
  },
  {
   "cell_type": "code",
   "execution_count": 4,
   "id": "c1126a05",
   "metadata": {},
   "outputs": [],
   "source": [
    "carsome['carsname'] = carsome['carsname'].apply(lambda x:x.replace('\\n          ',\"\"))"
   ]
  },
  {
   "cell_type": "code",
   "execution_count": 5,
   "id": "b8907bd1",
   "metadata": {},
   "outputs": [
    {
     "data": {
      "text/html": [
       "<div>\n",
       "<style scoped>\n",
       "    .dataframe tbody tr th:only-of-type {\n",
       "        vertical-align: middle;\n",
       "    }\n",
       "\n",
       "    .dataframe tbody tr th {\n",
       "        vertical-align: top;\n",
       "    }\n",
       "\n",
       "    .dataframe thead th {\n",
       "        text-align: right;\n",
       "    }\n",
       "</style>\n",
       "<table border=\"1\" class=\"dataframe\">\n",
       "  <thead>\n",
       "    <tr style=\"text-align: right;\">\n",
       "      <th></th>\n",
       "      <th>carsname</th>\n",
       "      <th>modelname</th>\n",
       "      <th>kilometres</th>\n",
       "      <th>price</th>\n",
       "      <th>features</th>\n",
       "    </tr>\n",
       "  </thead>\n",
       "  <tbody>\n",
       "    <tr>\n",
       "      <th>0</th>\n",
       "      <td>2016Mazda\\n         CX-32WD2.0\\n</td>\n",
       "      <td>\\n          CX-3\\n          2WD\\n          2.0...</td>\n",
       "      <td>94,852 km Automatic Kuala Lumpur</td>\n",
       "      <td>\\n          RM\\n          81,900 \\n          R...</td>\n",
       "      <td>SunroofLeather Seat Touchscreen Audio Display</td>\n",
       "    </tr>\n",
       "    <tr>\n",
       "      <th>1</th>\n",
       "      <td>2020Proton\\n         X70EXECUTIVE 2WD1.8\\n    ...</td>\n",
       "      <td>\\n          X70\\n          EXECUTIVE 2WD\\n    ...</td>\n",
       "      <td>17,279 km Automatic Kuala Lumpur</td>\n",
       "      <td>\\n          RM\\n          96,400 \\n          R...</td>\n",
       "      <td>Electronic SeatsKeyless Push StartTouchscreen...</td>\n",
       "    </tr>\n",
       "    <tr>\n",
       "      <th>2</th>\n",
       "      <td>2019Honda\\n         HR-VRS1.8\\n</td>\n",
       "      <td>\\n          HR-V\\n          RS\\n          1.8\\...</td>\n",
       "      <td>37,761 km Automatic Johor</td>\n",
       "      <td>\\n          RM\\n          95,900 \\n          R...</td>\n",
       "      <td>ABS BrakeKeyless Push StartTouchscreen Audio ...</td>\n",
       "    </tr>\n",
       "    <tr>\n",
       "      <th>3</th>\n",
       "      <td>2019Toyota\\n         YARISG1.5\\n</td>\n",
       "      <td>\\n          YARIS\\n          G\\n          1.5\\...</td>\n",
       "      <td>10,741 km Automatic Pulau Pinang</td>\n",
       "      <td>\\n          RM\\n          70,400 \\n          R...</td>\n",
       "      <td>Reverse CameraKeyless Push Start</td>\n",
       "    </tr>\n",
       "    <tr>\n",
       "      <th>4</th>\n",
       "      <td>2015Perodua\\n         AXIAG1.0\\n</td>\n",
       "      <td>\\n          AXIA\\n          G\\n          1.0\\n...</td>\n",
       "      <td>117,768 km Automatic Selangor</td>\n",
       "      <td>\\n          RM\\n          24,400 \\n          R...</td>\n",
       "      <td>SRS AirbagAlarm SystemFuel Efficiency</td>\n",
       "    </tr>\n",
       "  </tbody>\n",
       "</table>\n",
       "</div>"
      ],
      "text/plain": [
       "                                            carsname  \\\n",
       "0           2016Mazda\\n         CX-32WD2.0\\n           \n",
       "1  2020Proton\\n         X70EXECUTIVE 2WD1.8\\n    ...   \n",
       "2            2019Honda\\n         HR-VRS1.8\\n           \n",
       "3           2019Toyota\\n         YARISG1.5\\n           \n",
       "4           2015Perodua\\n         AXIAG1.0\\n           \n",
       "\n",
       "                                           modelname  \\\n",
       "0  \\n          CX-3\\n          2WD\\n          2.0...   \n",
       "1  \\n          X70\\n          EXECUTIVE 2WD\\n    ...   \n",
       "2  \\n          HR-V\\n          RS\\n          1.8\\...   \n",
       "3  \\n          YARIS\\n          G\\n          1.5\\...   \n",
       "4  \\n          AXIA\\n          G\\n          1.0\\n...   \n",
       "\n",
       "                         kilometres  \\\n",
       "0  94,852 km Automatic Kuala Lumpur   \n",
       "1  17,279 km Automatic Kuala Lumpur   \n",
       "2         37,761 km Automatic Johor   \n",
       "3  10,741 km Automatic Pulau Pinang   \n",
       "4     117,768 km Automatic Selangor   \n",
       "\n",
       "                                               price  \\\n",
       "0  \\n          RM\\n          81,900 \\n          R...   \n",
       "1  \\n          RM\\n          96,400 \\n          R...   \n",
       "2  \\n          RM\\n          95,900 \\n          R...   \n",
       "3  \\n          RM\\n          70,400 \\n          R...   \n",
       "4  \\n          RM\\n          24,400 \\n          R...   \n",
       "\n",
       "                                            features  \n",
       "0     SunroofLeather Seat Touchscreen Audio Display   \n",
       "1   Electronic SeatsKeyless Push StartTouchscreen...  \n",
       "2   ABS BrakeKeyless Push StartTouchscreen Audio ...  \n",
       "3                   Reverse CameraKeyless Push Start  \n",
       "4              SRS AirbagAlarm SystemFuel Efficiency  "
      ]
     },
     "execution_count": 5,
     "metadata": {},
     "output_type": "execute_result"
    }
   ],
   "source": [
    "carsome.head()"
   ]
  },
  {
   "cell_type": "code",
   "execution_count": 6,
   "id": "72564578",
   "metadata": {},
   "outputs": [],
   "source": [
    "carsome['Year'] = carsome['carsname'].apply(lambda x:re.search('\\d+',x).group())"
   ]
  },
  {
   "cell_type": "code",
   "execution_count": 7,
   "id": "3ece809e",
   "metadata": {},
   "outputs": [
    {
     "data": {
      "text/html": [
       "<div>\n",
       "<style scoped>\n",
       "    .dataframe tbody tr th:only-of-type {\n",
       "        vertical-align: middle;\n",
       "    }\n",
       "\n",
       "    .dataframe tbody tr th {\n",
       "        vertical-align: top;\n",
       "    }\n",
       "\n",
       "    .dataframe thead th {\n",
       "        text-align: right;\n",
       "    }\n",
       "</style>\n",
       "<table border=\"1\" class=\"dataframe\">\n",
       "  <thead>\n",
       "    <tr style=\"text-align: right;\">\n",
       "      <th></th>\n",
       "      <th>carsname</th>\n",
       "      <th>modelname</th>\n",
       "      <th>kilometres</th>\n",
       "      <th>price</th>\n",
       "      <th>features</th>\n",
       "      <th>Year</th>\n",
       "    </tr>\n",
       "  </thead>\n",
       "  <tbody>\n",
       "    <tr>\n",
       "      <th>0</th>\n",
       "      <td>2016Mazda\\n         CX-32WD2.0\\n</td>\n",
       "      <td>\\n          CX-3\\n          2WD\\n          2.0...</td>\n",
       "      <td>94,852 km Automatic Kuala Lumpur</td>\n",
       "      <td>\\n          RM\\n          81,900 \\n          R...</td>\n",
       "      <td>SunroofLeather Seat Touchscreen Audio Display</td>\n",
       "      <td>2016</td>\n",
       "    </tr>\n",
       "    <tr>\n",
       "      <th>1</th>\n",
       "      <td>2020Proton\\n         X70EXECUTIVE 2WD1.8\\n    ...</td>\n",
       "      <td>\\n          X70\\n          EXECUTIVE 2WD\\n    ...</td>\n",
       "      <td>17,279 km Automatic Kuala Lumpur</td>\n",
       "      <td>\\n          RM\\n          96,400 \\n          R...</td>\n",
       "      <td>Electronic SeatsKeyless Push StartTouchscreen...</td>\n",
       "      <td>2020</td>\n",
       "    </tr>\n",
       "    <tr>\n",
       "      <th>2</th>\n",
       "      <td>2019Honda\\n         HR-VRS1.8\\n</td>\n",
       "      <td>\\n          HR-V\\n          RS\\n          1.8\\...</td>\n",
       "      <td>37,761 km Automatic Johor</td>\n",
       "      <td>\\n          RM\\n          95,900 \\n          R...</td>\n",
       "      <td>ABS BrakeKeyless Push StartTouchscreen Audio ...</td>\n",
       "      <td>2019</td>\n",
       "    </tr>\n",
       "    <tr>\n",
       "      <th>3</th>\n",
       "      <td>2019Toyota\\n         YARISG1.5\\n</td>\n",
       "      <td>\\n          YARIS\\n          G\\n          1.5\\...</td>\n",
       "      <td>10,741 km Automatic Pulau Pinang</td>\n",
       "      <td>\\n          RM\\n          70,400 \\n          R...</td>\n",
       "      <td>Reverse CameraKeyless Push Start</td>\n",
       "      <td>2019</td>\n",
       "    </tr>\n",
       "    <tr>\n",
       "      <th>4</th>\n",
       "      <td>2015Perodua\\n         AXIAG1.0\\n</td>\n",
       "      <td>\\n          AXIA\\n          G\\n          1.0\\n...</td>\n",
       "      <td>117,768 km Automatic Selangor</td>\n",
       "      <td>\\n          RM\\n          24,400 \\n          R...</td>\n",
       "      <td>SRS AirbagAlarm SystemFuel Efficiency</td>\n",
       "      <td>2015</td>\n",
       "    </tr>\n",
       "  </tbody>\n",
       "</table>\n",
       "</div>"
      ],
      "text/plain": [
       "                                            carsname  \\\n",
       "0           2016Mazda\\n         CX-32WD2.0\\n           \n",
       "1  2020Proton\\n         X70EXECUTIVE 2WD1.8\\n    ...   \n",
       "2            2019Honda\\n         HR-VRS1.8\\n           \n",
       "3           2019Toyota\\n         YARISG1.5\\n           \n",
       "4           2015Perodua\\n         AXIAG1.0\\n           \n",
       "\n",
       "                                           modelname  \\\n",
       "0  \\n          CX-3\\n          2WD\\n          2.0...   \n",
       "1  \\n          X70\\n          EXECUTIVE 2WD\\n    ...   \n",
       "2  \\n          HR-V\\n          RS\\n          1.8\\...   \n",
       "3  \\n          YARIS\\n          G\\n          1.5\\...   \n",
       "4  \\n          AXIA\\n          G\\n          1.0\\n...   \n",
       "\n",
       "                         kilometres  \\\n",
       "0  94,852 km Automatic Kuala Lumpur   \n",
       "1  17,279 km Automatic Kuala Lumpur   \n",
       "2         37,761 km Automatic Johor   \n",
       "3  10,741 km Automatic Pulau Pinang   \n",
       "4     117,768 km Automatic Selangor   \n",
       "\n",
       "                                               price  \\\n",
       "0  \\n          RM\\n          81,900 \\n          R...   \n",
       "1  \\n          RM\\n          96,400 \\n          R...   \n",
       "2  \\n          RM\\n          95,900 \\n          R...   \n",
       "3  \\n          RM\\n          70,400 \\n          R...   \n",
       "4  \\n          RM\\n          24,400 \\n          R...   \n",
       "\n",
       "                                            features  Year  \n",
       "0     SunroofLeather Seat Touchscreen Audio Display   2016  \n",
       "1   Electronic SeatsKeyless Push StartTouchscreen...  2020  \n",
       "2   ABS BrakeKeyless Push StartTouchscreen Audio ...  2019  \n",
       "3                   Reverse CameraKeyless Push Start  2019  \n",
       "4              SRS AirbagAlarm SystemFuel Efficiency  2015  "
      ]
     },
     "execution_count": 7,
     "metadata": {},
     "output_type": "execute_result"
    }
   ],
   "source": [
    "carsome.head()"
   ]
  },
  {
   "cell_type": "code",
   "execution_count": 8,
   "id": "23019fb8",
   "metadata": {},
   "outputs": [],
   "source": [
    "carsome['carsname'] = carsome['carsname'].apply(lambda x:x.replace(x[0:4],\"\"))"
   ]
  },
  {
   "cell_type": "code",
   "execution_count": 9,
   "id": "22de272b",
   "metadata": {},
   "outputs": [
    {
     "data": {
      "text/html": [
       "<div>\n",
       "<style scoped>\n",
       "    .dataframe tbody tr th:only-of-type {\n",
       "        vertical-align: middle;\n",
       "    }\n",
       "\n",
       "    .dataframe tbody tr th {\n",
       "        vertical-align: top;\n",
       "    }\n",
       "\n",
       "    .dataframe thead th {\n",
       "        text-align: right;\n",
       "    }\n",
       "</style>\n",
       "<table border=\"1\" class=\"dataframe\">\n",
       "  <thead>\n",
       "    <tr style=\"text-align: right;\">\n",
       "      <th></th>\n",
       "      <th>carsname</th>\n",
       "      <th>modelname</th>\n",
       "      <th>kilometres</th>\n",
       "      <th>price</th>\n",
       "      <th>features</th>\n",
       "      <th>Year</th>\n",
       "    </tr>\n",
       "  </thead>\n",
       "  <tbody>\n",
       "    <tr>\n",
       "      <th>0</th>\n",
       "      <td>Mazda\\n         CX-32WD2.0\\n</td>\n",
       "      <td>\\n          CX-3\\n          2WD\\n          2.0...</td>\n",
       "      <td>94,852 km Automatic Kuala Lumpur</td>\n",
       "      <td>\\n          RM\\n          81,900 \\n          R...</td>\n",
       "      <td>SunroofLeather Seat Touchscreen Audio Display</td>\n",
       "      <td>2016</td>\n",
       "    </tr>\n",
       "    <tr>\n",
       "      <th>1</th>\n",
       "      <td>Proton\\n         X70EXECUTIVE 2WD1.8\\n</td>\n",
       "      <td>\\n          X70\\n          EXECUTIVE 2WD\\n    ...</td>\n",
       "      <td>17,279 km Automatic Kuala Lumpur</td>\n",
       "      <td>\\n          RM\\n          96,400 \\n          R...</td>\n",
       "      <td>Electronic SeatsKeyless Push StartTouchscreen...</td>\n",
       "      <td>2020</td>\n",
       "    </tr>\n",
       "    <tr>\n",
       "      <th>2</th>\n",
       "      <td>Honda\\n         HR-VRS1.8\\n</td>\n",
       "      <td>\\n          HR-V\\n          RS\\n          1.8\\...</td>\n",
       "      <td>37,761 km Automatic Johor</td>\n",
       "      <td>\\n          RM\\n          95,900 \\n          R...</td>\n",
       "      <td>ABS BrakeKeyless Push StartTouchscreen Audio ...</td>\n",
       "      <td>2019</td>\n",
       "    </tr>\n",
       "    <tr>\n",
       "      <th>3</th>\n",
       "      <td>Toyota\\n         YARISG1.5\\n</td>\n",
       "      <td>\\n          YARIS\\n          G\\n          1.5\\...</td>\n",
       "      <td>10,741 km Automatic Pulau Pinang</td>\n",
       "      <td>\\n          RM\\n          70,400 \\n          R...</td>\n",
       "      <td>Reverse CameraKeyless Push Start</td>\n",
       "      <td>2019</td>\n",
       "    </tr>\n",
       "    <tr>\n",
       "      <th>4</th>\n",
       "      <td>Perodua\\n         AXIAG1.0\\n</td>\n",
       "      <td>\\n          AXIA\\n          G\\n          1.0\\n...</td>\n",
       "      <td>117,768 km Automatic Selangor</td>\n",
       "      <td>\\n          RM\\n          24,400 \\n          R...</td>\n",
       "      <td>SRS AirbagAlarm SystemFuel Efficiency</td>\n",
       "      <td>2015</td>\n",
       "    </tr>\n",
       "  </tbody>\n",
       "</table>\n",
       "</div>"
      ],
      "text/plain": [
       "                                         carsname  \\\n",
       "0            Mazda\\n         CX-32WD2.0\\n           \n",
       "1  Proton\\n         X70EXECUTIVE 2WD1.8\\n           \n",
       "2             Honda\\n         HR-VRS1.8\\n           \n",
       "3            Toyota\\n         YARISG1.5\\n           \n",
       "4            Perodua\\n         AXIAG1.0\\n           \n",
       "\n",
       "                                           modelname  \\\n",
       "0  \\n          CX-3\\n          2WD\\n          2.0...   \n",
       "1  \\n          X70\\n          EXECUTIVE 2WD\\n    ...   \n",
       "2  \\n          HR-V\\n          RS\\n          1.8\\...   \n",
       "3  \\n          YARIS\\n          G\\n          1.5\\...   \n",
       "4  \\n          AXIA\\n          G\\n          1.0\\n...   \n",
       "\n",
       "                         kilometres  \\\n",
       "0  94,852 km Automatic Kuala Lumpur   \n",
       "1  17,279 km Automatic Kuala Lumpur   \n",
       "2         37,761 km Automatic Johor   \n",
       "3  10,741 km Automatic Pulau Pinang   \n",
       "4     117,768 km Automatic Selangor   \n",
       "\n",
       "                                               price  \\\n",
       "0  \\n          RM\\n          81,900 \\n          R...   \n",
       "1  \\n          RM\\n          96,400 \\n          R...   \n",
       "2  \\n          RM\\n          95,900 \\n          R...   \n",
       "3  \\n          RM\\n          70,400 \\n          R...   \n",
       "4  \\n          RM\\n          24,400 \\n          R...   \n",
       "\n",
       "                                            features  Year  \n",
       "0     SunroofLeather Seat Touchscreen Audio Display   2016  \n",
       "1   Electronic SeatsKeyless Push StartTouchscreen...  2020  \n",
       "2   ABS BrakeKeyless Push StartTouchscreen Audio ...  2019  \n",
       "3                   Reverse CameraKeyless Push Start  2019  \n",
       "4              SRS AirbagAlarm SystemFuel Efficiency  2015  "
      ]
     },
     "execution_count": 9,
     "metadata": {},
     "output_type": "execute_result"
    }
   ],
   "source": [
    "carsome.head()"
   ]
  },
  {
   "cell_type": "code",
   "execution_count": 10,
   "id": "a28a7ea4",
   "metadata": {},
   "outputs": [],
   "source": [
    "carsome['Carsname'] = carsome['carsname'].apply(lambda x:re.search('\\w+',x).group())"
   ]
  },
  {
   "cell_type": "code",
   "execution_count": 11,
   "id": "e830aa7d",
   "metadata": {},
   "outputs": [
    {
     "data": {
      "text/html": [
       "<div>\n",
       "<style scoped>\n",
       "    .dataframe tbody tr th:only-of-type {\n",
       "        vertical-align: middle;\n",
       "    }\n",
       "\n",
       "    .dataframe tbody tr th {\n",
       "        vertical-align: top;\n",
       "    }\n",
       "\n",
       "    .dataframe thead th {\n",
       "        text-align: right;\n",
       "    }\n",
       "</style>\n",
       "<table border=\"1\" class=\"dataframe\">\n",
       "  <thead>\n",
       "    <tr style=\"text-align: right;\">\n",
       "      <th></th>\n",
       "      <th>carsname</th>\n",
       "      <th>modelname</th>\n",
       "      <th>kilometres</th>\n",
       "      <th>price</th>\n",
       "      <th>features</th>\n",
       "      <th>Year</th>\n",
       "      <th>Carsname</th>\n",
       "    </tr>\n",
       "  </thead>\n",
       "  <tbody>\n",
       "    <tr>\n",
       "      <th>0</th>\n",
       "      <td>Mazda\\n         CX-32WD2.0\\n</td>\n",
       "      <td>\\n          CX-3\\n          2WD\\n          2.0...</td>\n",
       "      <td>94,852 km Automatic Kuala Lumpur</td>\n",
       "      <td>\\n          RM\\n          81,900 \\n          R...</td>\n",
       "      <td>SunroofLeather Seat Touchscreen Audio Display</td>\n",
       "      <td>2016</td>\n",
       "      <td>Mazda</td>\n",
       "    </tr>\n",
       "    <tr>\n",
       "      <th>1</th>\n",
       "      <td>Proton\\n         X70EXECUTIVE 2WD1.8\\n</td>\n",
       "      <td>\\n          X70\\n          EXECUTIVE 2WD\\n    ...</td>\n",
       "      <td>17,279 km Automatic Kuala Lumpur</td>\n",
       "      <td>\\n          RM\\n          96,400 \\n          R...</td>\n",
       "      <td>Electronic SeatsKeyless Push StartTouchscreen...</td>\n",
       "      <td>2020</td>\n",
       "      <td>Proton</td>\n",
       "    </tr>\n",
       "    <tr>\n",
       "      <th>2</th>\n",
       "      <td>Honda\\n         HR-VRS1.8\\n</td>\n",
       "      <td>\\n          HR-V\\n          RS\\n          1.8\\...</td>\n",
       "      <td>37,761 km Automatic Johor</td>\n",
       "      <td>\\n          RM\\n          95,900 \\n          R...</td>\n",
       "      <td>ABS BrakeKeyless Push StartTouchscreen Audio ...</td>\n",
       "      <td>2019</td>\n",
       "      <td>Honda</td>\n",
       "    </tr>\n",
       "    <tr>\n",
       "      <th>3</th>\n",
       "      <td>Toyota\\n         YARISG1.5\\n</td>\n",
       "      <td>\\n          YARIS\\n          G\\n          1.5\\...</td>\n",
       "      <td>10,741 km Automatic Pulau Pinang</td>\n",
       "      <td>\\n          RM\\n          70,400 \\n          R...</td>\n",
       "      <td>Reverse CameraKeyless Push Start</td>\n",
       "      <td>2019</td>\n",
       "      <td>Toyota</td>\n",
       "    </tr>\n",
       "    <tr>\n",
       "      <th>4</th>\n",
       "      <td>Perodua\\n         AXIAG1.0\\n</td>\n",
       "      <td>\\n          AXIA\\n          G\\n          1.0\\n...</td>\n",
       "      <td>117,768 km Automatic Selangor</td>\n",
       "      <td>\\n          RM\\n          24,400 \\n          R...</td>\n",
       "      <td>SRS AirbagAlarm SystemFuel Efficiency</td>\n",
       "      <td>2015</td>\n",
       "      <td>Perodua</td>\n",
       "    </tr>\n",
       "  </tbody>\n",
       "</table>\n",
       "</div>"
      ],
      "text/plain": [
       "                                         carsname  \\\n",
       "0            Mazda\\n         CX-32WD2.0\\n           \n",
       "1  Proton\\n         X70EXECUTIVE 2WD1.8\\n           \n",
       "2             Honda\\n         HR-VRS1.8\\n           \n",
       "3            Toyota\\n         YARISG1.5\\n           \n",
       "4            Perodua\\n         AXIAG1.0\\n           \n",
       "\n",
       "                                           modelname  \\\n",
       "0  \\n          CX-3\\n          2WD\\n          2.0...   \n",
       "1  \\n          X70\\n          EXECUTIVE 2WD\\n    ...   \n",
       "2  \\n          HR-V\\n          RS\\n          1.8\\...   \n",
       "3  \\n          YARIS\\n          G\\n          1.5\\...   \n",
       "4  \\n          AXIA\\n          G\\n          1.0\\n...   \n",
       "\n",
       "                         kilometres  \\\n",
       "0  94,852 km Automatic Kuala Lumpur   \n",
       "1  17,279 km Automatic Kuala Lumpur   \n",
       "2         37,761 km Automatic Johor   \n",
       "3  10,741 km Automatic Pulau Pinang   \n",
       "4     117,768 km Automatic Selangor   \n",
       "\n",
       "                                               price  \\\n",
       "0  \\n          RM\\n          81,900 \\n          R...   \n",
       "1  \\n          RM\\n          96,400 \\n          R...   \n",
       "2  \\n          RM\\n          95,900 \\n          R...   \n",
       "3  \\n          RM\\n          70,400 \\n          R...   \n",
       "4  \\n          RM\\n          24,400 \\n          R...   \n",
       "\n",
       "                                            features  Year Carsname  \n",
       "0     SunroofLeather Seat Touchscreen Audio Display   2016    Mazda  \n",
       "1   Electronic SeatsKeyless Push StartTouchscreen...  2020   Proton  \n",
       "2   ABS BrakeKeyless Push StartTouchscreen Audio ...  2019    Honda  \n",
       "3                   Reverse CameraKeyless Push Start  2019   Toyota  \n",
       "4              SRS AirbagAlarm SystemFuel Efficiency  2015  Perodua  "
      ]
     },
     "execution_count": 11,
     "metadata": {},
     "output_type": "execute_result"
    }
   ],
   "source": [
    "carsome.head()"
   ]
  },
  {
   "cell_type": "code",
   "execution_count": 12,
   "id": "eb35d405",
   "metadata": {},
   "outputs": [],
   "source": [
    "carsome.drop(labels='carsname',inplace=True,axis=1)"
   ]
  },
  {
   "cell_type": "code",
   "execution_count": 13,
   "id": "189351a6",
   "metadata": {},
   "outputs": [
    {
     "data": {
      "text/html": [
       "<div>\n",
       "<style scoped>\n",
       "    .dataframe tbody tr th:only-of-type {\n",
       "        vertical-align: middle;\n",
       "    }\n",
       "\n",
       "    .dataframe tbody tr th {\n",
       "        vertical-align: top;\n",
       "    }\n",
       "\n",
       "    .dataframe thead th {\n",
       "        text-align: right;\n",
       "    }\n",
       "</style>\n",
       "<table border=\"1\" class=\"dataframe\">\n",
       "  <thead>\n",
       "    <tr style=\"text-align: right;\">\n",
       "      <th></th>\n",
       "      <th>modelname</th>\n",
       "      <th>kilometres</th>\n",
       "      <th>price</th>\n",
       "      <th>features</th>\n",
       "      <th>Year</th>\n",
       "      <th>Carsname</th>\n",
       "    </tr>\n",
       "  </thead>\n",
       "  <tbody>\n",
       "    <tr>\n",
       "      <th>0</th>\n",
       "      <td>\\n          CX-3\\n          2WD\\n          2.0...</td>\n",
       "      <td>94,852 km Automatic Kuala Lumpur</td>\n",
       "      <td>\\n          RM\\n          81,900 \\n          R...</td>\n",
       "      <td>SunroofLeather Seat Touchscreen Audio Display</td>\n",
       "      <td>2016</td>\n",
       "      <td>Mazda</td>\n",
       "    </tr>\n",
       "    <tr>\n",
       "      <th>1</th>\n",
       "      <td>\\n          X70\\n          EXECUTIVE 2WD\\n    ...</td>\n",
       "      <td>17,279 km Automatic Kuala Lumpur</td>\n",
       "      <td>\\n          RM\\n          96,400 \\n          R...</td>\n",
       "      <td>Electronic SeatsKeyless Push StartTouchscreen...</td>\n",
       "      <td>2020</td>\n",
       "      <td>Proton</td>\n",
       "    </tr>\n",
       "    <tr>\n",
       "      <th>2</th>\n",
       "      <td>\\n          HR-V\\n          RS\\n          1.8\\...</td>\n",
       "      <td>37,761 km Automatic Johor</td>\n",
       "      <td>\\n          RM\\n          95,900 \\n          R...</td>\n",
       "      <td>ABS BrakeKeyless Push StartTouchscreen Audio ...</td>\n",
       "      <td>2019</td>\n",
       "      <td>Honda</td>\n",
       "    </tr>\n",
       "    <tr>\n",
       "      <th>3</th>\n",
       "      <td>\\n          YARIS\\n          G\\n          1.5\\...</td>\n",
       "      <td>10,741 km Automatic Pulau Pinang</td>\n",
       "      <td>\\n          RM\\n          70,400 \\n          R...</td>\n",
       "      <td>Reverse CameraKeyless Push Start</td>\n",
       "      <td>2019</td>\n",
       "      <td>Toyota</td>\n",
       "    </tr>\n",
       "    <tr>\n",
       "      <th>4</th>\n",
       "      <td>\\n          AXIA\\n          G\\n          1.0\\n...</td>\n",
       "      <td>117,768 km Automatic Selangor</td>\n",
       "      <td>\\n          RM\\n          24,400 \\n          R...</td>\n",
       "      <td>SRS AirbagAlarm SystemFuel Efficiency</td>\n",
       "      <td>2015</td>\n",
       "      <td>Perodua</td>\n",
       "    </tr>\n",
       "  </tbody>\n",
       "</table>\n",
       "</div>"
      ],
      "text/plain": [
       "                                           modelname  \\\n",
       "0  \\n          CX-3\\n          2WD\\n          2.0...   \n",
       "1  \\n          X70\\n          EXECUTIVE 2WD\\n    ...   \n",
       "2  \\n          HR-V\\n          RS\\n          1.8\\...   \n",
       "3  \\n          YARIS\\n          G\\n          1.5\\...   \n",
       "4  \\n          AXIA\\n          G\\n          1.0\\n...   \n",
       "\n",
       "                         kilometres  \\\n",
       "0  94,852 km Automatic Kuala Lumpur   \n",
       "1  17,279 km Automatic Kuala Lumpur   \n",
       "2         37,761 km Automatic Johor   \n",
       "3  10,741 km Automatic Pulau Pinang   \n",
       "4     117,768 km Automatic Selangor   \n",
       "\n",
       "                                               price  \\\n",
       "0  \\n          RM\\n          81,900 \\n          R...   \n",
       "1  \\n          RM\\n          96,400 \\n          R...   \n",
       "2  \\n          RM\\n          95,900 \\n          R...   \n",
       "3  \\n          RM\\n          70,400 \\n          R...   \n",
       "4  \\n          RM\\n          24,400 \\n          R...   \n",
       "\n",
       "                                            features  Year Carsname  \n",
       "0     SunroofLeather Seat Touchscreen Audio Display   2016    Mazda  \n",
       "1   Electronic SeatsKeyless Push StartTouchscreen...  2020   Proton  \n",
       "2   ABS BrakeKeyless Push StartTouchscreen Audio ...  2019    Honda  \n",
       "3                   Reverse CameraKeyless Push Start  2019   Toyota  \n",
       "4              SRS AirbagAlarm SystemFuel Efficiency  2015  Perodua  "
      ]
     },
     "execution_count": 13,
     "metadata": {},
     "output_type": "execute_result"
    }
   ],
   "source": [
    "carsome.head()"
   ]
  },
  {
   "cell_type": "code",
   "execution_count": 14,
   "id": "3cbfac0c",
   "metadata": {},
   "outputs": [
    {
     "data": {
      "text/plain": [
       "'\\n          '"
      ]
     },
     "execution_count": 14,
     "metadata": {},
     "output_type": "execute_result"
    }
   ],
   "source": [
    "carsome.modelname[0][0:11]"
   ]
  },
  {
   "cell_type": "code",
   "execution_count": 15,
   "id": "7b9a16fc",
   "metadata": {},
   "outputs": [],
   "source": [
    "carsome['modelname'] = carsome['modelname'].apply(lambda x:x.replace('\\n          ',\"\"))"
   ]
  },
  {
   "cell_type": "code",
   "execution_count": 16,
   "id": "8ae10ff2",
   "metadata": {},
   "outputs": [
    {
     "data": {
      "text/html": [
       "<div>\n",
       "<style scoped>\n",
       "    .dataframe tbody tr th:only-of-type {\n",
       "        vertical-align: middle;\n",
       "    }\n",
       "\n",
       "    .dataframe tbody tr th {\n",
       "        vertical-align: top;\n",
       "    }\n",
       "\n",
       "    .dataframe thead th {\n",
       "        text-align: right;\n",
       "    }\n",
       "</style>\n",
       "<table border=\"1\" class=\"dataframe\">\n",
       "  <thead>\n",
       "    <tr style=\"text-align: right;\">\n",
       "      <th></th>\n",
       "      <th>modelname</th>\n",
       "      <th>kilometres</th>\n",
       "      <th>price</th>\n",
       "      <th>features</th>\n",
       "      <th>Year</th>\n",
       "      <th>Carsname</th>\n",
       "    </tr>\n",
       "  </thead>\n",
       "  <tbody>\n",
       "    <tr>\n",
       "      <th>0</th>\n",
       "      <td>CX-32WD2.0\\n</td>\n",
       "      <td>94,852 km Automatic Kuala Lumpur</td>\n",
       "      <td>\\n          RM\\n          81,900 \\n          R...</td>\n",
       "      <td>SunroofLeather Seat Touchscreen Audio Display</td>\n",
       "      <td>2016</td>\n",
       "      <td>Mazda</td>\n",
       "    </tr>\n",
       "    <tr>\n",
       "      <th>1</th>\n",
       "      <td>X70EXECUTIVE 2WD1.8\\n</td>\n",
       "      <td>17,279 km Automatic Kuala Lumpur</td>\n",
       "      <td>\\n          RM\\n          96,400 \\n          R...</td>\n",
       "      <td>Electronic SeatsKeyless Push StartTouchscreen...</td>\n",
       "      <td>2020</td>\n",
       "      <td>Proton</td>\n",
       "    </tr>\n",
       "    <tr>\n",
       "      <th>2</th>\n",
       "      <td>HR-VRS1.8\\n</td>\n",
       "      <td>37,761 km Automatic Johor</td>\n",
       "      <td>\\n          RM\\n          95,900 \\n          R...</td>\n",
       "      <td>ABS BrakeKeyless Push StartTouchscreen Audio ...</td>\n",
       "      <td>2019</td>\n",
       "      <td>Honda</td>\n",
       "    </tr>\n",
       "    <tr>\n",
       "      <th>3</th>\n",
       "      <td>YARISG1.5\\n</td>\n",
       "      <td>10,741 km Automatic Pulau Pinang</td>\n",
       "      <td>\\n          RM\\n          70,400 \\n          R...</td>\n",
       "      <td>Reverse CameraKeyless Push Start</td>\n",
       "      <td>2019</td>\n",
       "      <td>Toyota</td>\n",
       "    </tr>\n",
       "    <tr>\n",
       "      <th>4</th>\n",
       "      <td>AXIAG1.0\\n</td>\n",
       "      <td>117,768 km Automatic Selangor</td>\n",
       "      <td>\\n          RM\\n          24,400 \\n          R...</td>\n",
       "      <td>SRS AirbagAlarm SystemFuel Efficiency</td>\n",
       "      <td>2015</td>\n",
       "      <td>Perodua</td>\n",
       "    </tr>\n",
       "  </tbody>\n",
       "</table>\n",
       "</div>"
      ],
      "text/plain": [
       "                       modelname                        kilometres  \\\n",
       "0           CX-32WD2.0\\n          94,852 km Automatic Kuala Lumpur   \n",
       "1  X70EXECUTIVE 2WD1.8\\n          17,279 km Automatic Kuala Lumpur   \n",
       "2            HR-VRS1.8\\n                 37,761 km Automatic Johor   \n",
       "3            YARISG1.5\\n          10,741 km Automatic Pulau Pinang   \n",
       "4             AXIAG1.0\\n             117,768 km Automatic Selangor   \n",
       "\n",
       "                                               price  \\\n",
       "0  \\n          RM\\n          81,900 \\n          R...   \n",
       "1  \\n          RM\\n          96,400 \\n          R...   \n",
       "2  \\n          RM\\n          95,900 \\n          R...   \n",
       "3  \\n          RM\\n          70,400 \\n          R...   \n",
       "4  \\n          RM\\n          24,400 \\n          R...   \n",
       "\n",
       "                                            features  Year Carsname  \n",
       "0     SunroofLeather Seat Touchscreen Audio Display   2016    Mazda  \n",
       "1   Electronic SeatsKeyless Push StartTouchscreen...  2020   Proton  \n",
       "2   ABS BrakeKeyless Push StartTouchscreen Audio ...  2019    Honda  \n",
       "3                   Reverse CameraKeyless Push Start  2019   Toyota  \n",
       "4              SRS AirbagAlarm SystemFuel Efficiency  2015  Perodua  "
      ]
     },
     "execution_count": 16,
     "metadata": {},
     "output_type": "execute_result"
    }
   ],
   "source": [
    "carsome.head()"
   ]
  },
  {
   "cell_type": "code",
   "execution_count": 17,
   "id": "e9e7f1d3",
   "metadata": {},
   "outputs": [
    {
     "data": {
      "text/plain": [
       "'CX-32WD2.0'"
      ]
     },
     "execution_count": 17,
     "metadata": {},
     "output_type": "execute_result"
    }
   ],
   "source": [
    "carsome.modelname[0].split()[0]"
   ]
  },
  {
   "cell_type": "code",
   "execution_count": 18,
   "id": "4c3e754e",
   "metadata": {},
   "outputs": [],
   "source": [
    "model = []\n",
    "for i in carsome.modelname:\n",
    "    model.append(i.split()[0])\n",
    "carsome[\"modelname\"]=model"
   ]
  },
  {
   "cell_type": "code",
   "execution_count": 19,
   "id": "ac675a13",
   "metadata": {},
   "outputs": [
    {
     "data": {
      "text/plain": [
       "['94,852']"
      ]
     },
     "execution_count": 19,
     "metadata": {},
     "output_type": "execute_result"
    }
   ],
   "source": [
    "carsome.kilometres[0].split()[0:1]"
   ]
  },
  {
   "cell_type": "code",
   "execution_count": 20,
   "id": "e8582e34",
   "metadata": {},
   "outputs": [],
   "source": [
    "km = []\n",
    "for i in carsome.kilometres:\n",
    "    km.append(i.split()[0])\n",
    "carsome[\"Km\"]=km"
   ]
  },
  {
   "cell_type": "code",
   "execution_count": 21,
   "id": "847e5955",
   "metadata": {},
   "outputs": [
    {
     "data": {
      "text/html": [
       "<div>\n",
       "<style scoped>\n",
       "    .dataframe tbody tr th:only-of-type {\n",
       "        vertical-align: middle;\n",
       "    }\n",
       "\n",
       "    .dataframe tbody tr th {\n",
       "        vertical-align: top;\n",
       "    }\n",
       "\n",
       "    .dataframe thead th {\n",
       "        text-align: right;\n",
       "    }\n",
       "</style>\n",
       "<table border=\"1\" class=\"dataframe\">\n",
       "  <thead>\n",
       "    <tr style=\"text-align: right;\">\n",
       "      <th></th>\n",
       "      <th>modelname</th>\n",
       "      <th>kilometres</th>\n",
       "      <th>price</th>\n",
       "      <th>features</th>\n",
       "      <th>Year</th>\n",
       "      <th>Carsname</th>\n",
       "      <th>Km</th>\n",
       "    </tr>\n",
       "  </thead>\n",
       "  <tbody>\n",
       "    <tr>\n",
       "      <th>0</th>\n",
       "      <td>CX-32WD2.0</td>\n",
       "      <td>94,852 km Automatic Kuala Lumpur</td>\n",
       "      <td>\\n          RM\\n          81,900 \\n          R...</td>\n",
       "      <td>SunroofLeather Seat Touchscreen Audio Display</td>\n",
       "      <td>2016</td>\n",
       "      <td>Mazda</td>\n",
       "      <td>94,852</td>\n",
       "    </tr>\n",
       "    <tr>\n",
       "      <th>1</th>\n",
       "      <td>X70EXECUTIVE</td>\n",
       "      <td>17,279 km Automatic Kuala Lumpur</td>\n",
       "      <td>\\n          RM\\n          96,400 \\n          R...</td>\n",
       "      <td>Electronic SeatsKeyless Push StartTouchscreen...</td>\n",
       "      <td>2020</td>\n",
       "      <td>Proton</td>\n",
       "      <td>17,279</td>\n",
       "    </tr>\n",
       "    <tr>\n",
       "      <th>2</th>\n",
       "      <td>HR-VRS1.8</td>\n",
       "      <td>37,761 km Automatic Johor</td>\n",
       "      <td>\\n          RM\\n          95,900 \\n          R...</td>\n",
       "      <td>ABS BrakeKeyless Push StartTouchscreen Audio ...</td>\n",
       "      <td>2019</td>\n",
       "      <td>Honda</td>\n",
       "      <td>37,761</td>\n",
       "    </tr>\n",
       "    <tr>\n",
       "      <th>3</th>\n",
       "      <td>YARISG1.5</td>\n",
       "      <td>10,741 km Automatic Pulau Pinang</td>\n",
       "      <td>\\n          RM\\n          70,400 \\n          R...</td>\n",
       "      <td>Reverse CameraKeyless Push Start</td>\n",
       "      <td>2019</td>\n",
       "      <td>Toyota</td>\n",
       "      <td>10,741</td>\n",
       "    </tr>\n",
       "    <tr>\n",
       "      <th>4</th>\n",
       "      <td>AXIAG1.0</td>\n",
       "      <td>117,768 km Automatic Selangor</td>\n",
       "      <td>\\n          RM\\n          24,400 \\n          R...</td>\n",
       "      <td>SRS AirbagAlarm SystemFuel Efficiency</td>\n",
       "      <td>2015</td>\n",
       "      <td>Perodua</td>\n",
       "      <td>117,768</td>\n",
       "    </tr>\n",
       "  </tbody>\n",
       "</table>\n",
       "</div>"
      ],
      "text/plain": [
       "      modelname                        kilometres  \\\n",
       "0    CX-32WD2.0  94,852 km Automatic Kuala Lumpur   \n",
       "1  X70EXECUTIVE  17,279 km Automatic Kuala Lumpur   \n",
       "2     HR-VRS1.8         37,761 km Automatic Johor   \n",
       "3     YARISG1.5  10,741 km Automatic Pulau Pinang   \n",
       "4      AXIAG1.0     117,768 km Automatic Selangor   \n",
       "\n",
       "                                               price  \\\n",
       "0  \\n          RM\\n          81,900 \\n          R...   \n",
       "1  \\n          RM\\n          96,400 \\n          R...   \n",
       "2  \\n          RM\\n          95,900 \\n          R...   \n",
       "3  \\n          RM\\n          70,400 \\n          R...   \n",
       "4  \\n          RM\\n          24,400 \\n          R...   \n",
       "\n",
       "                                            features  Year Carsname       Km  \n",
       "0     SunroofLeather Seat Touchscreen Audio Display   2016    Mazda   94,852  \n",
       "1   Electronic SeatsKeyless Push StartTouchscreen...  2020   Proton   17,279  \n",
       "2   ABS BrakeKeyless Push StartTouchscreen Audio ...  2019    Honda   37,761  \n",
       "3                   Reverse CameraKeyless Push Start  2019   Toyota   10,741  \n",
       "4              SRS AirbagAlarm SystemFuel Efficiency  2015  Perodua  117,768  "
      ]
     },
     "execution_count": 21,
     "metadata": {},
     "output_type": "execute_result"
    }
   ],
   "source": [
    "carsome.head()"
   ]
  },
  {
   "cell_type": "code",
   "execution_count": 22,
   "id": "b675b5eb",
   "metadata": {},
   "outputs": [],
   "source": [
    "Trans = []\n",
    "for i in carsome.kilometres:\n",
    "    Trans.append(i.split()[2])\n",
    "carsome[\"Transmission_type\"]=Trans"
   ]
  },
  {
   "cell_type": "code",
   "execution_count": 23,
   "id": "b04d14ec",
   "metadata": {},
   "outputs": [
    {
     "data": {
      "text/html": [
       "<div>\n",
       "<style scoped>\n",
       "    .dataframe tbody tr th:only-of-type {\n",
       "        vertical-align: middle;\n",
       "    }\n",
       "\n",
       "    .dataframe tbody tr th {\n",
       "        vertical-align: top;\n",
       "    }\n",
       "\n",
       "    .dataframe thead th {\n",
       "        text-align: right;\n",
       "    }\n",
       "</style>\n",
       "<table border=\"1\" class=\"dataframe\">\n",
       "  <thead>\n",
       "    <tr style=\"text-align: right;\">\n",
       "      <th></th>\n",
       "      <th>modelname</th>\n",
       "      <th>kilometres</th>\n",
       "      <th>price</th>\n",
       "      <th>features</th>\n",
       "      <th>Year</th>\n",
       "      <th>Carsname</th>\n",
       "      <th>Km</th>\n",
       "      <th>Transmission_type</th>\n",
       "    </tr>\n",
       "  </thead>\n",
       "  <tbody>\n",
       "    <tr>\n",
       "      <th>0</th>\n",
       "      <td>CX-32WD2.0</td>\n",
       "      <td>94,852 km Automatic Kuala Lumpur</td>\n",
       "      <td>\\n          RM\\n          81,900 \\n          R...</td>\n",
       "      <td>SunroofLeather Seat Touchscreen Audio Display</td>\n",
       "      <td>2016</td>\n",
       "      <td>Mazda</td>\n",
       "      <td>94,852</td>\n",
       "      <td>Automatic</td>\n",
       "    </tr>\n",
       "    <tr>\n",
       "      <th>1</th>\n",
       "      <td>X70EXECUTIVE</td>\n",
       "      <td>17,279 km Automatic Kuala Lumpur</td>\n",
       "      <td>\\n          RM\\n          96,400 \\n          R...</td>\n",
       "      <td>Electronic SeatsKeyless Push StartTouchscreen...</td>\n",
       "      <td>2020</td>\n",
       "      <td>Proton</td>\n",
       "      <td>17,279</td>\n",
       "      <td>Automatic</td>\n",
       "    </tr>\n",
       "    <tr>\n",
       "      <th>2</th>\n",
       "      <td>HR-VRS1.8</td>\n",
       "      <td>37,761 km Automatic Johor</td>\n",
       "      <td>\\n          RM\\n          95,900 \\n          R...</td>\n",
       "      <td>ABS BrakeKeyless Push StartTouchscreen Audio ...</td>\n",
       "      <td>2019</td>\n",
       "      <td>Honda</td>\n",
       "      <td>37,761</td>\n",
       "      <td>Automatic</td>\n",
       "    </tr>\n",
       "    <tr>\n",
       "      <th>3</th>\n",
       "      <td>YARISG1.5</td>\n",
       "      <td>10,741 km Automatic Pulau Pinang</td>\n",
       "      <td>\\n          RM\\n          70,400 \\n          R...</td>\n",
       "      <td>Reverse CameraKeyless Push Start</td>\n",
       "      <td>2019</td>\n",
       "      <td>Toyota</td>\n",
       "      <td>10,741</td>\n",
       "      <td>Automatic</td>\n",
       "    </tr>\n",
       "    <tr>\n",
       "      <th>4</th>\n",
       "      <td>AXIAG1.0</td>\n",
       "      <td>117,768 km Automatic Selangor</td>\n",
       "      <td>\\n          RM\\n          24,400 \\n          R...</td>\n",
       "      <td>SRS AirbagAlarm SystemFuel Efficiency</td>\n",
       "      <td>2015</td>\n",
       "      <td>Perodua</td>\n",
       "      <td>117,768</td>\n",
       "      <td>Automatic</td>\n",
       "    </tr>\n",
       "  </tbody>\n",
       "</table>\n",
       "</div>"
      ],
      "text/plain": [
       "      modelname                        kilometres  \\\n",
       "0    CX-32WD2.0  94,852 km Automatic Kuala Lumpur   \n",
       "1  X70EXECUTIVE  17,279 km Automatic Kuala Lumpur   \n",
       "2     HR-VRS1.8         37,761 km Automatic Johor   \n",
       "3     YARISG1.5  10,741 km Automatic Pulau Pinang   \n",
       "4      AXIAG1.0     117,768 km Automatic Selangor   \n",
       "\n",
       "                                               price  \\\n",
       "0  \\n          RM\\n          81,900 \\n          R...   \n",
       "1  \\n          RM\\n          96,400 \\n          R...   \n",
       "2  \\n          RM\\n          95,900 \\n          R...   \n",
       "3  \\n          RM\\n          70,400 \\n          R...   \n",
       "4  \\n          RM\\n          24,400 \\n          R...   \n",
       "\n",
       "                                            features  Year Carsname       Km  \\\n",
       "0     SunroofLeather Seat Touchscreen Audio Display   2016    Mazda   94,852   \n",
       "1   Electronic SeatsKeyless Push StartTouchscreen...  2020   Proton   17,279   \n",
       "2   ABS BrakeKeyless Push StartTouchscreen Audio ...  2019    Honda   37,761   \n",
       "3                   Reverse CameraKeyless Push Start  2019   Toyota   10,741   \n",
       "4              SRS AirbagAlarm SystemFuel Efficiency  2015  Perodua  117,768   \n",
       "\n",
       "  Transmission_type  \n",
       "0         Automatic  \n",
       "1         Automatic  \n",
       "2         Automatic  \n",
       "3         Automatic  \n",
       "4         Automatic  "
      ]
     },
     "execution_count": 23,
     "metadata": {},
     "output_type": "execute_result"
    }
   ],
   "source": [
    "carsome.head()"
   ]
  },
  {
   "cell_type": "code",
   "execution_count": 24,
   "id": "aefbd619",
   "metadata": {},
   "outputs": [],
   "source": [
    "loc = []\n",
    "for i in carsome.kilometres:\n",
    "    loc.append(i.split()[3])\n",
    "carsome[\"Location\"]=loc"
   ]
  },
  {
   "cell_type": "code",
   "execution_count": 25,
   "id": "4cef19c3",
   "metadata": {},
   "outputs": [
    {
     "data": {
      "text/html": [
       "<div>\n",
       "<style scoped>\n",
       "    .dataframe tbody tr th:only-of-type {\n",
       "        vertical-align: middle;\n",
       "    }\n",
       "\n",
       "    .dataframe tbody tr th {\n",
       "        vertical-align: top;\n",
       "    }\n",
       "\n",
       "    .dataframe thead th {\n",
       "        text-align: right;\n",
       "    }\n",
       "</style>\n",
       "<table border=\"1\" class=\"dataframe\">\n",
       "  <thead>\n",
       "    <tr style=\"text-align: right;\">\n",
       "      <th></th>\n",
       "      <th>modelname</th>\n",
       "      <th>kilometres</th>\n",
       "      <th>price</th>\n",
       "      <th>features</th>\n",
       "      <th>Year</th>\n",
       "      <th>Carsname</th>\n",
       "      <th>Km</th>\n",
       "      <th>Transmission_type</th>\n",
       "      <th>Location</th>\n",
       "    </tr>\n",
       "  </thead>\n",
       "  <tbody>\n",
       "    <tr>\n",
       "      <th>0</th>\n",
       "      <td>CX-32WD2.0</td>\n",
       "      <td>94,852 km Automatic Kuala Lumpur</td>\n",
       "      <td>\\n          RM\\n          81,900 \\n          R...</td>\n",
       "      <td>SunroofLeather Seat Touchscreen Audio Display</td>\n",
       "      <td>2016</td>\n",
       "      <td>Mazda</td>\n",
       "      <td>94,852</td>\n",
       "      <td>Automatic</td>\n",
       "      <td>Kuala</td>\n",
       "    </tr>\n",
       "    <tr>\n",
       "      <th>1</th>\n",
       "      <td>X70EXECUTIVE</td>\n",
       "      <td>17,279 km Automatic Kuala Lumpur</td>\n",
       "      <td>\\n          RM\\n          96,400 \\n          R...</td>\n",
       "      <td>Electronic SeatsKeyless Push StartTouchscreen...</td>\n",
       "      <td>2020</td>\n",
       "      <td>Proton</td>\n",
       "      <td>17,279</td>\n",
       "      <td>Automatic</td>\n",
       "      <td>Kuala</td>\n",
       "    </tr>\n",
       "    <tr>\n",
       "      <th>2</th>\n",
       "      <td>HR-VRS1.8</td>\n",
       "      <td>37,761 km Automatic Johor</td>\n",
       "      <td>\\n          RM\\n          95,900 \\n          R...</td>\n",
       "      <td>ABS BrakeKeyless Push StartTouchscreen Audio ...</td>\n",
       "      <td>2019</td>\n",
       "      <td>Honda</td>\n",
       "      <td>37,761</td>\n",
       "      <td>Automatic</td>\n",
       "      <td>Johor</td>\n",
       "    </tr>\n",
       "    <tr>\n",
       "      <th>3</th>\n",
       "      <td>YARISG1.5</td>\n",
       "      <td>10,741 km Automatic Pulau Pinang</td>\n",
       "      <td>\\n          RM\\n          70,400 \\n          R...</td>\n",
       "      <td>Reverse CameraKeyless Push Start</td>\n",
       "      <td>2019</td>\n",
       "      <td>Toyota</td>\n",
       "      <td>10,741</td>\n",
       "      <td>Automatic</td>\n",
       "      <td>Pulau</td>\n",
       "    </tr>\n",
       "    <tr>\n",
       "      <th>4</th>\n",
       "      <td>AXIAG1.0</td>\n",
       "      <td>117,768 km Automatic Selangor</td>\n",
       "      <td>\\n          RM\\n          24,400 \\n          R...</td>\n",
       "      <td>SRS AirbagAlarm SystemFuel Efficiency</td>\n",
       "      <td>2015</td>\n",
       "      <td>Perodua</td>\n",
       "      <td>117,768</td>\n",
       "      <td>Automatic</td>\n",
       "      <td>Selangor</td>\n",
       "    </tr>\n",
       "  </tbody>\n",
       "</table>\n",
       "</div>"
      ],
      "text/plain": [
       "      modelname                        kilometres  \\\n",
       "0    CX-32WD2.0  94,852 km Automatic Kuala Lumpur   \n",
       "1  X70EXECUTIVE  17,279 km Automatic Kuala Lumpur   \n",
       "2     HR-VRS1.8         37,761 km Automatic Johor   \n",
       "3     YARISG1.5  10,741 km Automatic Pulau Pinang   \n",
       "4      AXIAG1.0     117,768 km Automatic Selangor   \n",
       "\n",
       "                                               price  \\\n",
       "0  \\n          RM\\n          81,900 \\n          R...   \n",
       "1  \\n          RM\\n          96,400 \\n          R...   \n",
       "2  \\n          RM\\n          95,900 \\n          R...   \n",
       "3  \\n          RM\\n          70,400 \\n          R...   \n",
       "4  \\n          RM\\n          24,400 \\n          R...   \n",
       "\n",
       "                                            features  Year Carsname       Km  \\\n",
       "0     SunroofLeather Seat Touchscreen Audio Display   2016    Mazda   94,852   \n",
       "1   Electronic SeatsKeyless Push StartTouchscreen...  2020   Proton   17,279   \n",
       "2   ABS BrakeKeyless Push StartTouchscreen Audio ...  2019    Honda   37,761   \n",
       "3                   Reverse CameraKeyless Push Start  2019   Toyota   10,741   \n",
       "4              SRS AirbagAlarm SystemFuel Efficiency  2015  Perodua  117,768   \n",
       "\n",
       "  Transmission_type  Location  \n",
       "0         Automatic     Kuala  \n",
       "1         Automatic     Kuala  \n",
       "2         Automatic     Johor  \n",
       "3         Automatic     Pulau  \n",
       "4         Automatic  Selangor  "
      ]
     },
     "execution_count": 25,
     "metadata": {},
     "output_type": "execute_result"
    }
   ],
   "source": [
    "carsome.head()"
   ]
  },
  {
   "cell_type": "code",
   "execution_count": 26,
   "id": "e3d7cb94",
   "metadata": {},
   "outputs": [],
   "source": [
    "carsome.drop(labels='kilometres',inplace=True,axis=1)"
   ]
  },
  {
   "cell_type": "code",
   "execution_count": 27,
   "id": "1639243b",
   "metadata": {},
   "outputs": [
    {
     "data": {
      "text/html": [
       "<div>\n",
       "<style scoped>\n",
       "    .dataframe tbody tr th:only-of-type {\n",
       "        vertical-align: middle;\n",
       "    }\n",
       "\n",
       "    .dataframe tbody tr th {\n",
       "        vertical-align: top;\n",
       "    }\n",
       "\n",
       "    .dataframe thead th {\n",
       "        text-align: right;\n",
       "    }\n",
       "</style>\n",
       "<table border=\"1\" class=\"dataframe\">\n",
       "  <thead>\n",
       "    <tr style=\"text-align: right;\">\n",
       "      <th></th>\n",
       "      <th>modelname</th>\n",
       "      <th>price</th>\n",
       "      <th>features</th>\n",
       "      <th>Year</th>\n",
       "      <th>Carsname</th>\n",
       "      <th>Km</th>\n",
       "      <th>Transmission_type</th>\n",
       "      <th>Location</th>\n",
       "    </tr>\n",
       "  </thead>\n",
       "  <tbody>\n",
       "    <tr>\n",
       "      <th>0</th>\n",
       "      <td>CX-32WD2.0</td>\n",
       "      <td>\\n          RM\\n          81,900 \\n          R...</td>\n",
       "      <td>SunroofLeather Seat Touchscreen Audio Display</td>\n",
       "      <td>2016</td>\n",
       "      <td>Mazda</td>\n",
       "      <td>94,852</td>\n",
       "      <td>Automatic</td>\n",
       "      <td>Kuala</td>\n",
       "    </tr>\n",
       "    <tr>\n",
       "      <th>1</th>\n",
       "      <td>X70EXECUTIVE</td>\n",
       "      <td>\\n          RM\\n          96,400 \\n          R...</td>\n",
       "      <td>Electronic SeatsKeyless Push StartTouchscreen...</td>\n",
       "      <td>2020</td>\n",
       "      <td>Proton</td>\n",
       "      <td>17,279</td>\n",
       "      <td>Automatic</td>\n",
       "      <td>Kuala</td>\n",
       "    </tr>\n",
       "    <tr>\n",
       "      <th>2</th>\n",
       "      <td>HR-VRS1.8</td>\n",
       "      <td>\\n          RM\\n          95,900 \\n          R...</td>\n",
       "      <td>ABS BrakeKeyless Push StartTouchscreen Audio ...</td>\n",
       "      <td>2019</td>\n",
       "      <td>Honda</td>\n",
       "      <td>37,761</td>\n",
       "      <td>Automatic</td>\n",
       "      <td>Johor</td>\n",
       "    </tr>\n",
       "    <tr>\n",
       "      <th>3</th>\n",
       "      <td>YARISG1.5</td>\n",
       "      <td>\\n          RM\\n          70,400 \\n          R...</td>\n",
       "      <td>Reverse CameraKeyless Push Start</td>\n",
       "      <td>2019</td>\n",
       "      <td>Toyota</td>\n",
       "      <td>10,741</td>\n",
       "      <td>Automatic</td>\n",
       "      <td>Pulau</td>\n",
       "    </tr>\n",
       "    <tr>\n",
       "      <th>4</th>\n",
       "      <td>AXIAG1.0</td>\n",
       "      <td>\\n          RM\\n          24,400 \\n          R...</td>\n",
       "      <td>SRS AirbagAlarm SystemFuel Efficiency</td>\n",
       "      <td>2015</td>\n",
       "      <td>Perodua</td>\n",
       "      <td>117,768</td>\n",
       "      <td>Automatic</td>\n",
       "      <td>Selangor</td>\n",
       "    </tr>\n",
       "  </tbody>\n",
       "</table>\n",
       "</div>"
      ],
      "text/plain": [
       "      modelname                                              price  \\\n",
       "0    CX-32WD2.0  \\n          RM\\n          81,900 \\n          R...   \n",
       "1  X70EXECUTIVE  \\n          RM\\n          96,400 \\n          R...   \n",
       "2     HR-VRS1.8  \\n          RM\\n          95,900 \\n          R...   \n",
       "3     YARISG1.5  \\n          RM\\n          70,400 \\n          R...   \n",
       "4      AXIAG1.0  \\n          RM\\n          24,400 \\n          R...   \n",
       "\n",
       "                                            features  Year Carsname       Km  \\\n",
       "0     SunroofLeather Seat Touchscreen Audio Display   2016    Mazda   94,852   \n",
       "1   Electronic SeatsKeyless Push StartTouchscreen...  2020   Proton   17,279   \n",
       "2   ABS BrakeKeyless Push StartTouchscreen Audio ...  2019    Honda   37,761   \n",
       "3                   Reverse CameraKeyless Push Start  2019   Toyota   10,741   \n",
       "4              SRS AirbagAlarm SystemFuel Efficiency  2015  Perodua  117,768   \n",
       "\n",
       "  Transmission_type  Location  \n",
       "0         Automatic     Kuala  \n",
       "1         Automatic     Kuala  \n",
       "2         Automatic     Johor  \n",
       "3         Automatic     Pulau  \n",
       "4         Automatic  Selangor  "
      ]
     },
     "execution_count": 27,
     "metadata": {},
     "output_type": "execute_result"
    }
   ],
   "source": [
    "carsome.head()"
   ]
  },
  {
   "cell_type": "code",
   "execution_count": 28,
   "id": "f36df857",
   "metadata": {},
   "outputs": [],
   "source": [
    "carsome['price'] = carsome['price'].apply(lambda x:x.replace('\\n',\"\"))"
   ]
  },
  {
   "cell_type": "code",
   "execution_count": 29,
   "id": "9fa5c784",
   "metadata": {},
   "outputs": [
    {
     "data": {
      "text/html": [
       "<div>\n",
       "<style scoped>\n",
       "    .dataframe tbody tr th:only-of-type {\n",
       "        vertical-align: middle;\n",
       "    }\n",
       "\n",
       "    .dataframe tbody tr th {\n",
       "        vertical-align: top;\n",
       "    }\n",
       "\n",
       "    .dataframe thead th {\n",
       "        text-align: right;\n",
       "    }\n",
       "</style>\n",
       "<table border=\"1\" class=\"dataframe\">\n",
       "  <thead>\n",
       "    <tr style=\"text-align: right;\">\n",
       "      <th></th>\n",
       "      <th>modelname</th>\n",
       "      <th>price</th>\n",
       "      <th>features</th>\n",
       "      <th>Year</th>\n",
       "      <th>Carsname</th>\n",
       "      <th>Km</th>\n",
       "      <th>Transmission_type</th>\n",
       "      <th>Location</th>\n",
       "    </tr>\n",
       "  </thead>\n",
       "  <tbody>\n",
       "    <tr>\n",
       "      <th>0</th>\n",
       "      <td>CX-32WD2.0</td>\n",
       "      <td>RM          81,900           RM     ...</td>\n",
       "      <td>SunroofLeather Seat Touchscreen Audio Display</td>\n",
       "      <td>2016</td>\n",
       "      <td>Mazda</td>\n",
       "      <td>94,852</td>\n",
       "      <td>Automatic</td>\n",
       "      <td>Kuala</td>\n",
       "    </tr>\n",
       "    <tr>\n",
       "      <th>1</th>\n",
       "      <td>X70EXECUTIVE</td>\n",
       "      <td>RM          96,400           RM     ...</td>\n",
       "      <td>Electronic SeatsKeyless Push StartTouchscreen...</td>\n",
       "      <td>2020</td>\n",
       "      <td>Proton</td>\n",
       "      <td>17,279</td>\n",
       "      <td>Automatic</td>\n",
       "      <td>Kuala</td>\n",
       "    </tr>\n",
       "    <tr>\n",
       "      <th>2</th>\n",
       "      <td>HR-VRS1.8</td>\n",
       "      <td>RM          95,900           RM     ...</td>\n",
       "      <td>ABS BrakeKeyless Push StartTouchscreen Audio ...</td>\n",
       "      <td>2019</td>\n",
       "      <td>Honda</td>\n",
       "      <td>37,761</td>\n",
       "      <td>Automatic</td>\n",
       "      <td>Johor</td>\n",
       "    </tr>\n",
       "    <tr>\n",
       "      <th>3</th>\n",
       "      <td>YARISG1.5</td>\n",
       "      <td>RM          70,400           RM     ...</td>\n",
       "      <td>Reverse CameraKeyless Push Start</td>\n",
       "      <td>2019</td>\n",
       "      <td>Toyota</td>\n",
       "      <td>10,741</td>\n",
       "      <td>Automatic</td>\n",
       "      <td>Pulau</td>\n",
       "    </tr>\n",
       "    <tr>\n",
       "      <th>4</th>\n",
       "      <td>AXIAG1.0</td>\n",
       "      <td>RM          24,400           RM     ...</td>\n",
       "      <td>SRS AirbagAlarm SystemFuel Efficiency</td>\n",
       "      <td>2015</td>\n",
       "      <td>Perodua</td>\n",
       "      <td>117,768</td>\n",
       "      <td>Automatic</td>\n",
       "      <td>Selangor</td>\n",
       "    </tr>\n",
       "  </tbody>\n",
       "</table>\n",
       "</div>"
      ],
      "text/plain": [
       "      modelname                                              price  \\\n",
       "0    CX-32WD2.0            RM          81,900           RM     ...   \n",
       "1  X70EXECUTIVE            RM          96,400           RM     ...   \n",
       "2     HR-VRS1.8            RM          95,900           RM     ...   \n",
       "3     YARISG1.5            RM          70,400           RM     ...   \n",
       "4      AXIAG1.0            RM          24,400           RM     ...   \n",
       "\n",
       "                                            features  Year Carsname       Km  \\\n",
       "0     SunroofLeather Seat Touchscreen Audio Display   2016    Mazda   94,852   \n",
       "1   Electronic SeatsKeyless Push StartTouchscreen...  2020   Proton   17,279   \n",
       "2   ABS BrakeKeyless Push StartTouchscreen Audio ...  2019    Honda   37,761   \n",
       "3                   Reverse CameraKeyless Push Start  2019   Toyota   10,741   \n",
       "4              SRS AirbagAlarm SystemFuel Efficiency  2015  Perodua  117,768   \n",
       "\n",
       "  Transmission_type  Location  \n",
       "0         Automatic     Kuala  \n",
       "1         Automatic     Kuala  \n",
       "2         Automatic     Johor  \n",
       "3         Automatic     Pulau  \n",
       "4         Automatic  Selangor  "
      ]
     },
     "execution_count": 29,
     "metadata": {},
     "output_type": "execute_result"
    }
   ],
   "source": [
    "carsome.head()"
   ]
  },
  {
   "cell_type": "code",
   "execution_count": 30,
   "id": "1502b11c",
   "metadata": {},
   "outputs": [],
   "source": [
    "Price = []\n",
    "for i in carsome.price:\n",
    "    Price.append(i.split()[1])\n",
    "carsome[\"Price_in_RM\"]=Price"
   ]
  },
  {
   "cell_type": "code",
   "execution_count": 31,
   "id": "7488f303",
   "metadata": {},
   "outputs": [
    {
     "data": {
      "text/html": [
       "<div>\n",
       "<style scoped>\n",
       "    .dataframe tbody tr th:only-of-type {\n",
       "        vertical-align: middle;\n",
       "    }\n",
       "\n",
       "    .dataframe tbody tr th {\n",
       "        vertical-align: top;\n",
       "    }\n",
       "\n",
       "    .dataframe thead th {\n",
       "        text-align: right;\n",
       "    }\n",
       "</style>\n",
       "<table border=\"1\" class=\"dataframe\">\n",
       "  <thead>\n",
       "    <tr style=\"text-align: right;\">\n",
       "      <th></th>\n",
       "      <th>modelname</th>\n",
       "      <th>price</th>\n",
       "      <th>features</th>\n",
       "      <th>Year</th>\n",
       "      <th>Carsname</th>\n",
       "      <th>Km</th>\n",
       "      <th>Transmission_type</th>\n",
       "      <th>Location</th>\n",
       "      <th>Price_in_RM</th>\n",
       "    </tr>\n",
       "  </thead>\n",
       "  <tbody>\n",
       "    <tr>\n",
       "      <th>0</th>\n",
       "      <td>CX-32WD2.0</td>\n",
       "      <td>RM          81,900           RM     ...</td>\n",
       "      <td>SunroofLeather Seat Touchscreen Audio Display</td>\n",
       "      <td>2016</td>\n",
       "      <td>Mazda</td>\n",
       "      <td>94,852</td>\n",
       "      <td>Automatic</td>\n",
       "      <td>Kuala</td>\n",
       "      <td>81,900</td>\n",
       "    </tr>\n",
       "    <tr>\n",
       "      <th>1</th>\n",
       "      <td>X70EXECUTIVE</td>\n",
       "      <td>RM          96,400           RM     ...</td>\n",
       "      <td>Electronic SeatsKeyless Push StartTouchscreen...</td>\n",
       "      <td>2020</td>\n",
       "      <td>Proton</td>\n",
       "      <td>17,279</td>\n",
       "      <td>Automatic</td>\n",
       "      <td>Kuala</td>\n",
       "      <td>96,400</td>\n",
       "    </tr>\n",
       "    <tr>\n",
       "      <th>2</th>\n",
       "      <td>HR-VRS1.8</td>\n",
       "      <td>RM          95,900           RM     ...</td>\n",
       "      <td>ABS BrakeKeyless Push StartTouchscreen Audio ...</td>\n",
       "      <td>2019</td>\n",
       "      <td>Honda</td>\n",
       "      <td>37,761</td>\n",
       "      <td>Automatic</td>\n",
       "      <td>Johor</td>\n",
       "      <td>95,900</td>\n",
       "    </tr>\n",
       "    <tr>\n",
       "      <th>3</th>\n",
       "      <td>YARISG1.5</td>\n",
       "      <td>RM          70,400           RM     ...</td>\n",
       "      <td>Reverse CameraKeyless Push Start</td>\n",
       "      <td>2019</td>\n",
       "      <td>Toyota</td>\n",
       "      <td>10,741</td>\n",
       "      <td>Automatic</td>\n",
       "      <td>Pulau</td>\n",
       "      <td>70,400</td>\n",
       "    </tr>\n",
       "    <tr>\n",
       "      <th>4</th>\n",
       "      <td>AXIAG1.0</td>\n",
       "      <td>RM          24,400           RM     ...</td>\n",
       "      <td>SRS AirbagAlarm SystemFuel Efficiency</td>\n",
       "      <td>2015</td>\n",
       "      <td>Perodua</td>\n",
       "      <td>117,768</td>\n",
       "      <td>Automatic</td>\n",
       "      <td>Selangor</td>\n",
       "      <td>24,400</td>\n",
       "    </tr>\n",
       "  </tbody>\n",
       "</table>\n",
       "</div>"
      ],
      "text/plain": [
       "      modelname                                              price  \\\n",
       "0    CX-32WD2.0            RM          81,900           RM     ...   \n",
       "1  X70EXECUTIVE            RM          96,400           RM     ...   \n",
       "2     HR-VRS1.8            RM          95,900           RM     ...   \n",
       "3     YARISG1.5            RM          70,400           RM     ...   \n",
       "4      AXIAG1.0            RM          24,400           RM     ...   \n",
       "\n",
       "                                            features  Year Carsname       Km  \\\n",
       "0     SunroofLeather Seat Touchscreen Audio Display   2016    Mazda   94,852   \n",
       "1   Electronic SeatsKeyless Push StartTouchscreen...  2020   Proton   17,279   \n",
       "2   ABS BrakeKeyless Push StartTouchscreen Audio ...  2019    Honda   37,761   \n",
       "3                   Reverse CameraKeyless Push Start  2019   Toyota   10,741   \n",
       "4              SRS AirbagAlarm SystemFuel Efficiency  2015  Perodua  117,768   \n",
       "\n",
       "  Transmission_type  Location Price_in_RM  \n",
       "0         Automatic     Kuala      81,900  \n",
       "1         Automatic     Kuala      96,400  \n",
       "2         Automatic     Johor      95,900  \n",
       "3         Automatic     Pulau      70,400  \n",
       "4         Automatic  Selangor      24,400  "
      ]
     },
     "execution_count": 31,
     "metadata": {},
     "output_type": "execute_result"
    }
   ],
   "source": [
    "carsome.head()"
   ]
  },
  {
   "cell_type": "code",
   "execution_count": 32,
   "id": "ec3dceee",
   "metadata": {},
   "outputs": [],
   "source": [
    "carsome.drop(labels='price',inplace=True,axis=1)"
   ]
  },
  {
   "cell_type": "code",
   "execution_count": 33,
   "id": "092aa8f7",
   "metadata": {},
   "outputs": [
    {
     "data": {
      "text/html": [
       "<div>\n",
       "<style scoped>\n",
       "    .dataframe tbody tr th:only-of-type {\n",
       "        vertical-align: middle;\n",
       "    }\n",
       "\n",
       "    .dataframe tbody tr th {\n",
       "        vertical-align: top;\n",
       "    }\n",
       "\n",
       "    .dataframe thead th {\n",
       "        text-align: right;\n",
       "    }\n",
       "</style>\n",
       "<table border=\"1\" class=\"dataframe\">\n",
       "  <thead>\n",
       "    <tr style=\"text-align: right;\">\n",
       "      <th></th>\n",
       "      <th>modelname</th>\n",
       "      <th>features</th>\n",
       "      <th>Year</th>\n",
       "      <th>Carsname</th>\n",
       "      <th>Km</th>\n",
       "      <th>Transmission_type</th>\n",
       "      <th>Location</th>\n",
       "      <th>Price_in_RM</th>\n",
       "    </tr>\n",
       "  </thead>\n",
       "  <tbody>\n",
       "    <tr>\n",
       "      <th>0</th>\n",
       "      <td>CX-32WD2.0</td>\n",
       "      <td>SunroofLeather Seat Touchscreen Audio Display</td>\n",
       "      <td>2016</td>\n",
       "      <td>Mazda</td>\n",
       "      <td>94,852</td>\n",
       "      <td>Automatic</td>\n",
       "      <td>Kuala</td>\n",
       "      <td>81,900</td>\n",
       "    </tr>\n",
       "    <tr>\n",
       "      <th>1</th>\n",
       "      <td>X70EXECUTIVE</td>\n",
       "      <td>Electronic SeatsKeyless Push StartTouchscreen...</td>\n",
       "      <td>2020</td>\n",
       "      <td>Proton</td>\n",
       "      <td>17,279</td>\n",
       "      <td>Automatic</td>\n",
       "      <td>Kuala</td>\n",
       "      <td>96,400</td>\n",
       "    </tr>\n",
       "    <tr>\n",
       "      <th>2</th>\n",
       "      <td>HR-VRS1.8</td>\n",
       "      <td>ABS BrakeKeyless Push StartTouchscreen Audio ...</td>\n",
       "      <td>2019</td>\n",
       "      <td>Honda</td>\n",
       "      <td>37,761</td>\n",
       "      <td>Automatic</td>\n",
       "      <td>Johor</td>\n",
       "      <td>95,900</td>\n",
       "    </tr>\n",
       "    <tr>\n",
       "      <th>3</th>\n",
       "      <td>YARISG1.5</td>\n",
       "      <td>Reverse CameraKeyless Push Start</td>\n",
       "      <td>2019</td>\n",
       "      <td>Toyota</td>\n",
       "      <td>10,741</td>\n",
       "      <td>Automatic</td>\n",
       "      <td>Pulau</td>\n",
       "      <td>70,400</td>\n",
       "    </tr>\n",
       "    <tr>\n",
       "      <th>4</th>\n",
       "      <td>AXIAG1.0</td>\n",
       "      <td>SRS AirbagAlarm SystemFuel Efficiency</td>\n",
       "      <td>2015</td>\n",
       "      <td>Perodua</td>\n",
       "      <td>117,768</td>\n",
       "      <td>Automatic</td>\n",
       "      <td>Selangor</td>\n",
       "      <td>24,400</td>\n",
       "    </tr>\n",
       "  </tbody>\n",
       "</table>\n",
       "</div>"
      ],
      "text/plain": [
       "      modelname                                           features  Year  \\\n",
       "0    CX-32WD2.0     SunroofLeather Seat Touchscreen Audio Display   2016   \n",
       "1  X70EXECUTIVE   Electronic SeatsKeyless Push StartTouchscreen...  2020   \n",
       "2     HR-VRS1.8   ABS BrakeKeyless Push StartTouchscreen Audio ...  2019   \n",
       "3     YARISG1.5                   Reverse CameraKeyless Push Start  2019   \n",
       "4      AXIAG1.0              SRS AirbagAlarm SystemFuel Efficiency  2015   \n",
       "\n",
       "  Carsname       Km Transmission_type  Location Price_in_RM  \n",
       "0    Mazda   94,852         Automatic     Kuala      81,900  \n",
       "1   Proton   17,279         Automatic     Kuala      96,400  \n",
       "2    Honda   37,761         Automatic     Johor      95,900  \n",
       "3   Toyota   10,741         Automatic     Pulau      70,400  \n",
       "4  Perodua  117,768         Automatic  Selangor      24,400  "
      ]
     },
     "execution_count": 33,
     "metadata": {},
     "output_type": "execute_result"
    }
   ],
   "source": [
    "carsome.head()"
   ]
  },
  {
   "cell_type": "code",
   "execution_count": 34,
   "id": "c317a7db",
   "metadata": {},
   "outputs": [],
   "source": [
    "l1=[]\n",
    "for i in carsome.features:\n",
    "    if 'touchscreen audio display' in i.lower():\n",
    "        l1.append('Present')\n",
    "    else:\n",
    "        l1.append('Not Present')\n",
    "carsome[\"touchscreen audio display\"]=l1"
   ]
  },
  {
   "cell_type": "code",
   "execution_count": 35,
   "id": "fb6128c5",
   "metadata": {},
   "outputs": [
    {
     "data": {
      "text/html": [
       "<div>\n",
       "<style scoped>\n",
       "    .dataframe tbody tr th:only-of-type {\n",
       "        vertical-align: middle;\n",
       "    }\n",
       "\n",
       "    .dataframe tbody tr th {\n",
       "        vertical-align: top;\n",
       "    }\n",
       "\n",
       "    .dataframe thead th {\n",
       "        text-align: right;\n",
       "    }\n",
       "</style>\n",
       "<table border=\"1\" class=\"dataframe\">\n",
       "  <thead>\n",
       "    <tr style=\"text-align: right;\">\n",
       "      <th></th>\n",
       "      <th>modelname</th>\n",
       "      <th>features</th>\n",
       "      <th>Year</th>\n",
       "      <th>Carsname</th>\n",
       "      <th>Km</th>\n",
       "      <th>Transmission_type</th>\n",
       "      <th>Location</th>\n",
       "      <th>Price_in_RM</th>\n",
       "      <th>touchscreen audio display</th>\n",
       "    </tr>\n",
       "  </thead>\n",
       "  <tbody>\n",
       "    <tr>\n",
       "      <th>0</th>\n",
       "      <td>CX-32WD2.0</td>\n",
       "      <td>SunroofLeather Seat Touchscreen Audio Display</td>\n",
       "      <td>2016</td>\n",
       "      <td>Mazda</td>\n",
       "      <td>94,852</td>\n",
       "      <td>Automatic</td>\n",
       "      <td>Kuala</td>\n",
       "      <td>81,900</td>\n",
       "      <td>Present</td>\n",
       "    </tr>\n",
       "    <tr>\n",
       "      <th>1</th>\n",
       "      <td>X70EXECUTIVE</td>\n",
       "      <td>Electronic SeatsKeyless Push StartTouchscreen...</td>\n",
       "      <td>2020</td>\n",
       "      <td>Proton</td>\n",
       "      <td>17,279</td>\n",
       "      <td>Automatic</td>\n",
       "      <td>Kuala</td>\n",
       "      <td>96,400</td>\n",
       "      <td>Present</td>\n",
       "    </tr>\n",
       "    <tr>\n",
       "      <th>2</th>\n",
       "      <td>HR-VRS1.8</td>\n",
       "      <td>ABS BrakeKeyless Push StartTouchscreen Audio ...</td>\n",
       "      <td>2019</td>\n",
       "      <td>Honda</td>\n",
       "      <td>37,761</td>\n",
       "      <td>Automatic</td>\n",
       "      <td>Johor</td>\n",
       "      <td>95,900</td>\n",
       "      <td>Present</td>\n",
       "    </tr>\n",
       "    <tr>\n",
       "      <th>3</th>\n",
       "      <td>YARISG1.5</td>\n",
       "      <td>Reverse CameraKeyless Push Start</td>\n",
       "      <td>2019</td>\n",
       "      <td>Toyota</td>\n",
       "      <td>10,741</td>\n",
       "      <td>Automatic</td>\n",
       "      <td>Pulau</td>\n",
       "      <td>70,400</td>\n",
       "      <td>Not Present</td>\n",
       "    </tr>\n",
       "    <tr>\n",
       "      <th>4</th>\n",
       "      <td>AXIAG1.0</td>\n",
       "      <td>SRS AirbagAlarm SystemFuel Efficiency</td>\n",
       "      <td>2015</td>\n",
       "      <td>Perodua</td>\n",
       "      <td>117,768</td>\n",
       "      <td>Automatic</td>\n",
       "      <td>Selangor</td>\n",
       "      <td>24,400</td>\n",
       "      <td>Not Present</td>\n",
       "    </tr>\n",
       "  </tbody>\n",
       "</table>\n",
       "</div>"
      ],
      "text/plain": [
       "      modelname                                           features  Year  \\\n",
       "0    CX-32WD2.0     SunroofLeather Seat Touchscreen Audio Display   2016   \n",
       "1  X70EXECUTIVE   Electronic SeatsKeyless Push StartTouchscreen...  2020   \n",
       "2     HR-VRS1.8   ABS BrakeKeyless Push StartTouchscreen Audio ...  2019   \n",
       "3     YARISG1.5                   Reverse CameraKeyless Push Start  2019   \n",
       "4      AXIAG1.0              SRS AirbagAlarm SystemFuel Efficiency  2015   \n",
       "\n",
       "  Carsname       Km Transmission_type  Location Price_in_RM  \\\n",
       "0    Mazda   94,852         Automatic     Kuala      81,900   \n",
       "1   Proton   17,279         Automatic     Kuala      96,400   \n",
       "2    Honda   37,761         Automatic     Johor      95,900   \n",
       "3   Toyota   10,741         Automatic     Pulau      70,400   \n",
       "4  Perodua  117,768         Automatic  Selangor      24,400   \n",
       "\n",
       "  touchscreen audio display  \n",
       "0                   Present  \n",
       "1                   Present  \n",
       "2                   Present  \n",
       "3               Not Present  \n",
       "4               Not Present  "
      ]
     },
     "execution_count": 35,
     "metadata": {},
     "output_type": "execute_result"
    }
   ],
   "source": [
    "carsome.head()"
   ]
  },
  {
   "cell_type": "code",
   "execution_count": 36,
   "id": "d3c1692e",
   "metadata": {},
   "outputs": [],
   "source": [
    "l2=[]\n",
    "for i in carsome.features:\n",
    "    if 'srs airbag' in i.lower():\n",
    "        l2.append('Present')\n",
    "    else:\n",
    "        l2.append('Not Present')\n",
    "carsome[\"srs airbag\"]=l2"
   ]
  },
  {
   "cell_type": "code",
   "execution_count": 37,
   "id": "e2fd2231",
   "metadata": {},
   "outputs": [
    {
     "data": {
      "text/html": [
       "<div>\n",
       "<style scoped>\n",
       "    .dataframe tbody tr th:only-of-type {\n",
       "        vertical-align: middle;\n",
       "    }\n",
       "\n",
       "    .dataframe tbody tr th {\n",
       "        vertical-align: top;\n",
       "    }\n",
       "\n",
       "    .dataframe thead th {\n",
       "        text-align: right;\n",
       "    }\n",
       "</style>\n",
       "<table border=\"1\" class=\"dataframe\">\n",
       "  <thead>\n",
       "    <tr style=\"text-align: right;\">\n",
       "      <th></th>\n",
       "      <th>modelname</th>\n",
       "      <th>features</th>\n",
       "      <th>Year</th>\n",
       "      <th>Carsname</th>\n",
       "      <th>Km</th>\n",
       "      <th>Transmission_type</th>\n",
       "      <th>Location</th>\n",
       "      <th>Price_in_RM</th>\n",
       "      <th>touchscreen audio display</th>\n",
       "      <th>srs airbag</th>\n",
       "    </tr>\n",
       "  </thead>\n",
       "  <tbody>\n",
       "    <tr>\n",
       "      <th>0</th>\n",
       "      <td>CX-32WD2.0</td>\n",
       "      <td>SunroofLeather Seat Touchscreen Audio Display</td>\n",
       "      <td>2016</td>\n",
       "      <td>Mazda</td>\n",
       "      <td>94,852</td>\n",
       "      <td>Automatic</td>\n",
       "      <td>Kuala</td>\n",
       "      <td>81,900</td>\n",
       "      <td>Present</td>\n",
       "      <td>Not Present</td>\n",
       "    </tr>\n",
       "    <tr>\n",
       "      <th>1</th>\n",
       "      <td>X70EXECUTIVE</td>\n",
       "      <td>Electronic SeatsKeyless Push StartTouchscreen...</td>\n",
       "      <td>2020</td>\n",
       "      <td>Proton</td>\n",
       "      <td>17,279</td>\n",
       "      <td>Automatic</td>\n",
       "      <td>Kuala</td>\n",
       "      <td>96,400</td>\n",
       "      <td>Present</td>\n",
       "      <td>Not Present</td>\n",
       "    </tr>\n",
       "    <tr>\n",
       "      <th>2</th>\n",
       "      <td>HR-VRS1.8</td>\n",
       "      <td>ABS BrakeKeyless Push StartTouchscreen Audio ...</td>\n",
       "      <td>2019</td>\n",
       "      <td>Honda</td>\n",
       "      <td>37,761</td>\n",
       "      <td>Automatic</td>\n",
       "      <td>Johor</td>\n",
       "      <td>95,900</td>\n",
       "      <td>Present</td>\n",
       "      <td>Not Present</td>\n",
       "    </tr>\n",
       "    <tr>\n",
       "      <th>3</th>\n",
       "      <td>YARISG1.5</td>\n",
       "      <td>Reverse CameraKeyless Push Start</td>\n",
       "      <td>2019</td>\n",
       "      <td>Toyota</td>\n",
       "      <td>10,741</td>\n",
       "      <td>Automatic</td>\n",
       "      <td>Pulau</td>\n",
       "      <td>70,400</td>\n",
       "      <td>Not Present</td>\n",
       "      <td>Not Present</td>\n",
       "    </tr>\n",
       "    <tr>\n",
       "      <th>4</th>\n",
       "      <td>AXIAG1.0</td>\n",
       "      <td>SRS AirbagAlarm SystemFuel Efficiency</td>\n",
       "      <td>2015</td>\n",
       "      <td>Perodua</td>\n",
       "      <td>117,768</td>\n",
       "      <td>Automatic</td>\n",
       "      <td>Selangor</td>\n",
       "      <td>24,400</td>\n",
       "      <td>Not Present</td>\n",
       "      <td>Present</td>\n",
       "    </tr>\n",
       "  </tbody>\n",
       "</table>\n",
       "</div>"
      ],
      "text/plain": [
       "      modelname                                           features  Year  \\\n",
       "0    CX-32WD2.0     SunroofLeather Seat Touchscreen Audio Display   2016   \n",
       "1  X70EXECUTIVE   Electronic SeatsKeyless Push StartTouchscreen...  2020   \n",
       "2     HR-VRS1.8   ABS BrakeKeyless Push StartTouchscreen Audio ...  2019   \n",
       "3     YARISG1.5                   Reverse CameraKeyless Push Start  2019   \n",
       "4      AXIAG1.0              SRS AirbagAlarm SystemFuel Efficiency  2015   \n",
       "\n",
       "  Carsname       Km Transmission_type  Location Price_in_RM  \\\n",
       "0    Mazda   94,852         Automatic     Kuala      81,900   \n",
       "1   Proton   17,279         Automatic     Kuala      96,400   \n",
       "2    Honda   37,761         Automatic     Johor      95,900   \n",
       "3   Toyota   10,741         Automatic     Pulau      70,400   \n",
       "4  Perodua  117,768         Automatic  Selangor      24,400   \n",
       "\n",
       "  touchscreen audio display   srs airbag  \n",
       "0                   Present  Not Present  \n",
       "1                   Present  Not Present  \n",
       "2                   Present  Not Present  \n",
       "3               Not Present  Not Present  \n",
       "4               Not Present      Present  "
      ]
     },
     "execution_count": 37,
     "metadata": {},
     "output_type": "execute_result"
    }
   ],
   "source": [
    "carsome.head()"
   ]
  },
  {
   "cell_type": "code",
   "execution_count": 38,
   "id": "c9fea20b",
   "metadata": {},
   "outputs": [],
   "source": [
    "l3=[]\n",
    "for i in carsome.features:\n",
    "    if 'keyless push star' in i.lower():\n",
    "        l3.append('Present')\n",
    "    else:\n",
    "        l3.append('Not Present')\n",
    "carsome[\"keyless push star\"]=l3"
   ]
  },
  {
   "cell_type": "code",
   "execution_count": 39,
   "id": "6d74909a",
   "metadata": {},
   "outputs": [
    {
     "data": {
      "text/html": [
       "<div>\n",
       "<style scoped>\n",
       "    .dataframe tbody tr th:only-of-type {\n",
       "        vertical-align: middle;\n",
       "    }\n",
       "\n",
       "    .dataframe tbody tr th {\n",
       "        vertical-align: top;\n",
       "    }\n",
       "\n",
       "    .dataframe thead th {\n",
       "        text-align: right;\n",
       "    }\n",
       "</style>\n",
       "<table border=\"1\" class=\"dataframe\">\n",
       "  <thead>\n",
       "    <tr style=\"text-align: right;\">\n",
       "      <th></th>\n",
       "      <th>modelname</th>\n",
       "      <th>features</th>\n",
       "      <th>Year</th>\n",
       "      <th>Carsname</th>\n",
       "      <th>Km</th>\n",
       "      <th>Transmission_type</th>\n",
       "      <th>Location</th>\n",
       "      <th>Price_in_RM</th>\n",
       "      <th>touchscreen audio display</th>\n",
       "      <th>srs airbag</th>\n",
       "      <th>keyless push star</th>\n",
       "    </tr>\n",
       "  </thead>\n",
       "  <tbody>\n",
       "    <tr>\n",
       "      <th>0</th>\n",
       "      <td>CX-32WD2.0</td>\n",
       "      <td>SunroofLeather Seat Touchscreen Audio Display</td>\n",
       "      <td>2016</td>\n",
       "      <td>Mazda</td>\n",
       "      <td>94,852</td>\n",
       "      <td>Automatic</td>\n",
       "      <td>Kuala</td>\n",
       "      <td>81,900</td>\n",
       "      <td>Present</td>\n",
       "      <td>Not Present</td>\n",
       "      <td>Not Present</td>\n",
       "    </tr>\n",
       "    <tr>\n",
       "      <th>1</th>\n",
       "      <td>X70EXECUTIVE</td>\n",
       "      <td>Electronic SeatsKeyless Push StartTouchscreen...</td>\n",
       "      <td>2020</td>\n",
       "      <td>Proton</td>\n",
       "      <td>17,279</td>\n",
       "      <td>Automatic</td>\n",
       "      <td>Kuala</td>\n",
       "      <td>96,400</td>\n",
       "      <td>Present</td>\n",
       "      <td>Not Present</td>\n",
       "      <td>Present</td>\n",
       "    </tr>\n",
       "    <tr>\n",
       "      <th>2</th>\n",
       "      <td>HR-VRS1.8</td>\n",
       "      <td>ABS BrakeKeyless Push StartTouchscreen Audio ...</td>\n",
       "      <td>2019</td>\n",
       "      <td>Honda</td>\n",
       "      <td>37,761</td>\n",
       "      <td>Automatic</td>\n",
       "      <td>Johor</td>\n",
       "      <td>95,900</td>\n",
       "      <td>Present</td>\n",
       "      <td>Not Present</td>\n",
       "      <td>Present</td>\n",
       "    </tr>\n",
       "    <tr>\n",
       "      <th>3</th>\n",
       "      <td>YARISG1.5</td>\n",
       "      <td>Reverse CameraKeyless Push Start</td>\n",
       "      <td>2019</td>\n",
       "      <td>Toyota</td>\n",
       "      <td>10,741</td>\n",
       "      <td>Automatic</td>\n",
       "      <td>Pulau</td>\n",
       "      <td>70,400</td>\n",
       "      <td>Not Present</td>\n",
       "      <td>Not Present</td>\n",
       "      <td>Present</td>\n",
       "    </tr>\n",
       "    <tr>\n",
       "      <th>4</th>\n",
       "      <td>AXIAG1.0</td>\n",
       "      <td>SRS AirbagAlarm SystemFuel Efficiency</td>\n",
       "      <td>2015</td>\n",
       "      <td>Perodua</td>\n",
       "      <td>117,768</td>\n",
       "      <td>Automatic</td>\n",
       "      <td>Selangor</td>\n",
       "      <td>24,400</td>\n",
       "      <td>Not Present</td>\n",
       "      <td>Present</td>\n",
       "      <td>Not Present</td>\n",
       "    </tr>\n",
       "  </tbody>\n",
       "</table>\n",
       "</div>"
      ],
      "text/plain": [
       "      modelname                                           features  Year  \\\n",
       "0    CX-32WD2.0     SunroofLeather Seat Touchscreen Audio Display   2016   \n",
       "1  X70EXECUTIVE   Electronic SeatsKeyless Push StartTouchscreen...  2020   \n",
       "2     HR-VRS1.8   ABS BrakeKeyless Push StartTouchscreen Audio ...  2019   \n",
       "3     YARISG1.5                   Reverse CameraKeyless Push Start  2019   \n",
       "4      AXIAG1.0              SRS AirbagAlarm SystemFuel Efficiency  2015   \n",
       "\n",
       "  Carsname       Km Transmission_type  Location Price_in_RM  \\\n",
       "0    Mazda   94,852         Automatic     Kuala      81,900   \n",
       "1   Proton   17,279         Automatic     Kuala      96,400   \n",
       "2    Honda   37,761         Automatic     Johor      95,900   \n",
       "3   Toyota   10,741         Automatic     Pulau      70,400   \n",
       "4  Perodua  117,768         Automatic  Selangor      24,400   \n",
       "\n",
       "  touchscreen audio display   srs airbag keyless push star  \n",
       "0                   Present  Not Present       Not Present  \n",
       "1                   Present  Not Present           Present  \n",
       "2                   Present  Not Present           Present  \n",
       "3               Not Present  Not Present           Present  \n",
       "4               Not Present      Present       Not Present  "
      ]
     },
     "execution_count": 39,
     "metadata": {},
     "output_type": "execute_result"
    }
   ],
   "source": [
    "carsome.head()"
   ]
  },
  {
   "cell_type": "code",
   "execution_count": 40,
   "id": "65c72fef",
   "metadata": {},
   "outputs": [],
   "source": [
    "carsome.drop(labels='features',inplace=True,axis=1)"
   ]
  },
  {
   "cell_type": "code",
   "execution_count": 41,
   "id": "3be47dfb",
   "metadata": {},
   "outputs": [
    {
     "data": {
      "text/html": [
       "<div>\n",
       "<style scoped>\n",
       "    .dataframe tbody tr th:only-of-type {\n",
       "        vertical-align: middle;\n",
       "    }\n",
       "\n",
       "    .dataframe tbody tr th {\n",
       "        vertical-align: top;\n",
       "    }\n",
       "\n",
       "    .dataframe thead th {\n",
       "        text-align: right;\n",
       "    }\n",
       "</style>\n",
       "<table border=\"1\" class=\"dataframe\">\n",
       "  <thead>\n",
       "    <tr style=\"text-align: right;\">\n",
       "      <th></th>\n",
       "      <th>modelname</th>\n",
       "      <th>Year</th>\n",
       "      <th>Carsname</th>\n",
       "      <th>Km</th>\n",
       "      <th>Transmission_type</th>\n",
       "      <th>Location</th>\n",
       "      <th>Price_in_RM</th>\n",
       "      <th>touchscreen audio display</th>\n",
       "      <th>srs airbag</th>\n",
       "      <th>keyless push star</th>\n",
       "    </tr>\n",
       "  </thead>\n",
       "  <tbody>\n",
       "    <tr>\n",
       "      <th>0</th>\n",
       "      <td>CX-32WD2.0</td>\n",
       "      <td>2016</td>\n",
       "      <td>Mazda</td>\n",
       "      <td>94,852</td>\n",
       "      <td>Automatic</td>\n",
       "      <td>Kuala</td>\n",
       "      <td>81,900</td>\n",
       "      <td>Present</td>\n",
       "      <td>Not Present</td>\n",
       "      <td>Not Present</td>\n",
       "    </tr>\n",
       "    <tr>\n",
       "      <th>1</th>\n",
       "      <td>X70EXECUTIVE</td>\n",
       "      <td>2020</td>\n",
       "      <td>Proton</td>\n",
       "      <td>17,279</td>\n",
       "      <td>Automatic</td>\n",
       "      <td>Kuala</td>\n",
       "      <td>96,400</td>\n",
       "      <td>Present</td>\n",
       "      <td>Not Present</td>\n",
       "      <td>Present</td>\n",
       "    </tr>\n",
       "    <tr>\n",
       "      <th>2</th>\n",
       "      <td>HR-VRS1.8</td>\n",
       "      <td>2019</td>\n",
       "      <td>Honda</td>\n",
       "      <td>37,761</td>\n",
       "      <td>Automatic</td>\n",
       "      <td>Johor</td>\n",
       "      <td>95,900</td>\n",
       "      <td>Present</td>\n",
       "      <td>Not Present</td>\n",
       "      <td>Present</td>\n",
       "    </tr>\n",
       "    <tr>\n",
       "      <th>3</th>\n",
       "      <td>YARISG1.5</td>\n",
       "      <td>2019</td>\n",
       "      <td>Toyota</td>\n",
       "      <td>10,741</td>\n",
       "      <td>Automatic</td>\n",
       "      <td>Pulau</td>\n",
       "      <td>70,400</td>\n",
       "      <td>Not Present</td>\n",
       "      <td>Not Present</td>\n",
       "      <td>Present</td>\n",
       "    </tr>\n",
       "    <tr>\n",
       "      <th>4</th>\n",
       "      <td>AXIAG1.0</td>\n",
       "      <td>2015</td>\n",
       "      <td>Perodua</td>\n",
       "      <td>117,768</td>\n",
       "      <td>Automatic</td>\n",
       "      <td>Selangor</td>\n",
       "      <td>24,400</td>\n",
       "      <td>Not Present</td>\n",
       "      <td>Present</td>\n",
       "      <td>Not Present</td>\n",
       "    </tr>\n",
       "  </tbody>\n",
       "</table>\n",
       "</div>"
      ],
      "text/plain": [
       "      modelname  Year Carsname       Km Transmission_type  Location  \\\n",
       "0    CX-32WD2.0  2016    Mazda   94,852         Automatic     Kuala   \n",
       "1  X70EXECUTIVE  2020   Proton   17,279         Automatic     Kuala   \n",
       "2     HR-VRS1.8  2019    Honda   37,761         Automatic     Johor   \n",
       "3     YARISG1.5  2019   Toyota   10,741         Automatic     Pulau   \n",
       "4      AXIAG1.0  2015  Perodua  117,768         Automatic  Selangor   \n",
       "\n",
       "  Price_in_RM touchscreen audio display   srs airbag keyless push star  \n",
       "0      81,900                   Present  Not Present       Not Present  \n",
       "1      96,400                   Present  Not Present           Present  \n",
       "2      95,900                   Present  Not Present           Present  \n",
       "3      70,400               Not Present  Not Present           Present  \n",
       "4      24,400               Not Present      Present       Not Present  "
      ]
     },
     "execution_count": 41,
     "metadata": {},
     "output_type": "execute_result"
    }
   ],
   "source": [
    "carsome.head()"
   ]
  },
  {
   "cell_type": "markdown",
   "id": "1341ced7",
   "metadata": {},
   "source": [
    "## Rearranging DataFrame"
   ]
  },
  {
   "cell_type": "code",
   "execution_count": 42,
   "id": "f5a71465",
   "metadata": {},
   "outputs": [],
   "source": [
    "carsome = carsome[['Carsname', 'modelname', 'Location','Year','Transmission_type','Km','Price_in_RM','touchscreen audio display','srs airbag','keyless push star']]"
   ]
  },
  {
   "cell_type": "code",
   "execution_count": 43,
   "id": "bf748daa",
   "metadata": {},
   "outputs": [
    {
     "data": {
      "text/html": [
       "<div>\n",
       "<style scoped>\n",
       "    .dataframe tbody tr th:only-of-type {\n",
       "        vertical-align: middle;\n",
       "    }\n",
       "\n",
       "    .dataframe tbody tr th {\n",
       "        vertical-align: top;\n",
       "    }\n",
       "\n",
       "    .dataframe thead th {\n",
       "        text-align: right;\n",
       "    }\n",
       "</style>\n",
       "<table border=\"1\" class=\"dataframe\">\n",
       "  <thead>\n",
       "    <tr style=\"text-align: right;\">\n",
       "      <th></th>\n",
       "      <th>Carsname</th>\n",
       "      <th>modelname</th>\n",
       "      <th>Location</th>\n",
       "      <th>Year</th>\n",
       "      <th>Transmission_type</th>\n",
       "      <th>Km</th>\n",
       "      <th>Price_in_RM</th>\n",
       "      <th>touchscreen audio display</th>\n",
       "      <th>srs airbag</th>\n",
       "      <th>keyless push star</th>\n",
       "    </tr>\n",
       "  </thead>\n",
       "  <tbody>\n",
       "    <tr>\n",
       "      <th>0</th>\n",
       "      <td>Mazda</td>\n",
       "      <td>CX-32WD2.0</td>\n",
       "      <td>Kuala</td>\n",
       "      <td>2016</td>\n",
       "      <td>Automatic</td>\n",
       "      <td>94,852</td>\n",
       "      <td>81,900</td>\n",
       "      <td>Present</td>\n",
       "      <td>Not Present</td>\n",
       "      <td>Not Present</td>\n",
       "    </tr>\n",
       "    <tr>\n",
       "      <th>1</th>\n",
       "      <td>Proton</td>\n",
       "      <td>X70EXECUTIVE</td>\n",
       "      <td>Kuala</td>\n",
       "      <td>2020</td>\n",
       "      <td>Automatic</td>\n",
       "      <td>17,279</td>\n",
       "      <td>96,400</td>\n",
       "      <td>Present</td>\n",
       "      <td>Not Present</td>\n",
       "      <td>Present</td>\n",
       "    </tr>\n",
       "    <tr>\n",
       "      <th>2</th>\n",
       "      <td>Honda</td>\n",
       "      <td>HR-VRS1.8</td>\n",
       "      <td>Johor</td>\n",
       "      <td>2019</td>\n",
       "      <td>Automatic</td>\n",
       "      <td>37,761</td>\n",
       "      <td>95,900</td>\n",
       "      <td>Present</td>\n",
       "      <td>Not Present</td>\n",
       "      <td>Present</td>\n",
       "    </tr>\n",
       "    <tr>\n",
       "      <th>3</th>\n",
       "      <td>Toyota</td>\n",
       "      <td>YARISG1.5</td>\n",
       "      <td>Pulau</td>\n",
       "      <td>2019</td>\n",
       "      <td>Automatic</td>\n",
       "      <td>10,741</td>\n",
       "      <td>70,400</td>\n",
       "      <td>Not Present</td>\n",
       "      <td>Not Present</td>\n",
       "      <td>Present</td>\n",
       "    </tr>\n",
       "    <tr>\n",
       "      <th>4</th>\n",
       "      <td>Perodua</td>\n",
       "      <td>AXIAG1.0</td>\n",
       "      <td>Selangor</td>\n",
       "      <td>2015</td>\n",
       "      <td>Automatic</td>\n",
       "      <td>117,768</td>\n",
       "      <td>24,400</td>\n",
       "      <td>Not Present</td>\n",
       "      <td>Present</td>\n",
       "      <td>Not Present</td>\n",
       "    </tr>\n",
       "  </tbody>\n",
       "</table>\n",
       "</div>"
      ],
      "text/plain": [
       "  Carsname     modelname  Location  Year Transmission_type       Km  \\\n",
       "0    Mazda    CX-32WD2.0     Kuala  2016         Automatic   94,852   \n",
       "1   Proton  X70EXECUTIVE     Kuala  2020         Automatic   17,279   \n",
       "2    Honda     HR-VRS1.8     Johor  2019         Automatic   37,761   \n",
       "3   Toyota     YARISG1.5     Pulau  2019         Automatic   10,741   \n",
       "4  Perodua      AXIAG1.0  Selangor  2015         Automatic  117,768   \n",
       "\n",
       "  Price_in_RM touchscreen audio display   srs airbag keyless push star  \n",
       "0      81,900                   Present  Not Present       Not Present  \n",
       "1      96,400                   Present  Not Present           Present  \n",
       "2      95,900                   Present  Not Present           Present  \n",
       "3      70,400               Not Present  Not Present           Present  \n",
       "4      24,400               Not Present      Present       Not Present  "
      ]
     },
     "execution_count": 43,
     "metadata": {},
     "output_type": "execute_result"
    }
   ],
   "source": [
    "carsome.head()"
   ]
  },
  {
   "cell_type": "markdown",
   "id": "f4f0cddf",
   "metadata": {},
   "source": [
    "## Rename all the columns"
   ]
  },
  {
   "cell_type": "code",
   "execution_count": 44,
   "id": "1528ac9b",
   "metadata": {},
   "outputs": [],
   "source": [
    "carsome.rename(columns={'Carsname':\"Cars_Name\",'modelname':\"Model_Name\",'touchscreen audio display':\"Touchscreen_Audio_Display\",'srs airbag':\"SRS_Airbag\",'keyless push star':'Keyless_Push_Star'},inplace=True)"
   ]
  },
  {
   "cell_type": "code",
   "execution_count": 45,
   "id": "ed823b3c",
   "metadata": {},
   "outputs": [
    {
     "data": {
      "text/html": [
       "<div>\n",
       "<style scoped>\n",
       "    .dataframe tbody tr th:only-of-type {\n",
       "        vertical-align: middle;\n",
       "    }\n",
       "\n",
       "    .dataframe tbody tr th {\n",
       "        vertical-align: top;\n",
       "    }\n",
       "\n",
       "    .dataframe thead th {\n",
       "        text-align: right;\n",
       "    }\n",
       "</style>\n",
       "<table border=\"1\" class=\"dataframe\">\n",
       "  <thead>\n",
       "    <tr style=\"text-align: right;\">\n",
       "      <th></th>\n",
       "      <th>Cars_Name</th>\n",
       "      <th>Model_Name</th>\n",
       "      <th>Location</th>\n",
       "      <th>Year</th>\n",
       "      <th>Transmission_type</th>\n",
       "      <th>Km</th>\n",
       "      <th>Price_in_RM</th>\n",
       "      <th>Touchscreen_Audio_Display</th>\n",
       "      <th>SRS_Airbag</th>\n",
       "      <th>Keyless_Push_Star</th>\n",
       "    </tr>\n",
       "  </thead>\n",
       "  <tbody>\n",
       "    <tr>\n",
       "      <th>0</th>\n",
       "      <td>Mazda</td>\n",
       "      <td>CX-32WD2.0</td>\n",
       "      <td>Kuala</td>\n",
       "      <td>2016</td>\n",
       "      <td>Automatic</td>\n",
       "      <td>94,852</td>\n",
       "      <td>81,900</td>\n",
       "      <td>Present</td>\n",
       "      <td>Not Present</td>\n",
       "      <td>Not Present</td>\n",
       "    </tr>\n",
       "    <tr>\n",
       "      <th>1</th>\n",
       "      <td>Proton</td>\n",
       "      <td>X70EXECUTIVE</td>\n",
       "      <td>Kuala</td>\n",
       "      <td>2020</td>\n",
       "      <td>Automatic</td>\n",
       "      <td>17,279</td>\n",
       "      <td>96,400</td>\n",
       "      <td>Present</td>\n",
       "      <td>Not Present</td>\n",
       "      <td>Present</td>\n",
       "    </tr>\n",
       "    <tr>\n",
       "      <th>2</th>\n",
       "      <td>Honda</td>\n",
       "      <td>HR-VRS1.8</td>\n",
       "      <td>Johor</td>\n",
       "      <td>2019</td>\n",
       "      <td>Automatic</td>\n",
       "      <td>37,761</td>\n",
       "      <td>95,900</td>\n",
       "      <td>Present</td>\n",
       "      <td>Not Present</td>\n",
       "      <td>Present</td>\n",
       "    </tr>\n",
       "    <tr>\n",
       "      <th>3</th>\n",
       "      <td>Toyota</td>\n",
       "      <td>YARISG1.5</td>\n",
       "      <td>Pulau</td>\n",
       "      <td>2019</td>\n",
       "      <td>Automatic</td>\n",
       "      <td>10,741</td>\n",
       "      <td>70,400</td>\n",
       "      <td>Not Present</td>\n",
       "      <td>Not Present</td>\n",
       "      <td>Present</td>\n",
       "    </tr>\n",
       "    <tr>\n",
       "      <th>4</th>\n",
       "      <td>Perodua</td>\n",
       "      <td>AXIAG1.0</td>\n",
       "      <td>Selangor</td>\n",
       "      <td>2015</td>\n",
       "      <td>Automatic</td>\n",
       "      <td>117,768</td>\n",
       "      <td>24,400</td>\n",
       "      <td>Not Present</td>\n",
       "      <td>Present</td>\n",
       "      <td>Not Present</td>\n",
       "    </tr>\n",
       "  </tbody>\n",
       "</table>\n",
       "</div>"
      ],
      "text/plain": [
       "  Cars_Name    Model_Name  Location  Year Transmission_type       Km  \\\n",
       "0     Mazda    CX-32WD2.0     Kuala  2016         Automatic   94,852   \n",
       "1    Proton  X70EXECUTIVE     Kuala  2020         Automatic   17,279   \n",
       "2     Honda     HR-VRS1.8     Johor  2019         Automatic   37,761   \n",
       "3    Toyota     YARISG1.5     Pulau  2019         Automatic   10,741   \n",
       "4   Perodua      AXIAG1.0  Selangor  2015         Automatic  117,768   \n",
       "\n",
       "  Price_in_RM Touchscreen_Audio_Display   SRS_Airbag Keyless_Push_Star  \n",
       "0      81,900                   Present  Not Present       Not Present  \n",
       "1      96,400                   Present  Not Present           Present  \n",
       "2      95,900                   Present  Not Present           Present  \n",
       "3      70,400               Not Present  Not Present           Present  \n",
       "4      24,400               Not Present      Present       Not Present  "
      ]
     },
     "execution_count": 45,
     "metadata": {},
     "output_type": "execute_result"
    }
   ],
   "source": [
    "carsome.head()"
   ]
  },
  {
   "cell_type": "code",
   "execution_count": 46,
   "id": "346ca116",
   "metadata": {},
   "outputs": [
    {
     "name": "stdout",
     "output_type": "stream",
     "text": [
      "<class 'pandas.core.frame.DataFrame'>\n",
      "RangeIndex: 612 entries, 0 to 611\n",
      "Data columns (total 10 columns):\n",
      " #   Column                     Non-Null Count  Dtype \n",
      "---  ------                     --------------  ----- \n",
      " 0   Cars_Name                  612 non-null    object\n",
      " 1   Model_Name                 612 non-null    object\n",
      " 2   Location                   612 non-null    object\n",
      " 3   Year                       612 non-null    object\n",
      " 4   Transmission_type          612 non-null    object\n",
      " 5   Km                         612 non-null    object\n",
      " 6   Price_in_RM                612 non-null    object\n",
      " 7   Touchscreen_Audio_Display  612 non-null    object\n",
      " 8   SRS_Airbag                 612 non-null    object\n",
      " 9   Keyless_Push_Star          612 non-null    object\n",
      "dtypes: object(10)\n",
      "memory usage: 47.9+ KB\n"
     ]
    }
   ],
   "source": [
    "carsome.info()"
   ]
  },
  {
   "cell_type": "code",
   "execution_count": 47,
   "id": "8ed3db93",
   "metadata": {},
   "outputs": [],
   "source": [
    "carsome['Year']=carsome.Year.astype(int)"
   ]
  },
  {
   "cell_type": "code",
   "execution_count": 48,
   "id": "8b7df86e",
   "metadata": {},
   "outputs": [
    {
     "data": {
      "text/plain": [
       "dtype('int32')"
      ]
     },
     "execution_count": 48,
     "metadata": {},
     "output_type": "execute_result"
    }
   ],
   "source": [
    "carsome.Year.dtypes"
   ]
  },
  {
   "cell_type": "code",
   "execution_count": 49,
   "id": "f847e4e4",
   "metadata": {},
   "outputs": [],
   "source": [
    "carsome['Km']=carsome.Km.str.replace(',',\"\")"
   ]
  },
  {
   "cell_type": "code",
   "execution_count": 50,
   "id": "999cc5d3",
   "metadata": {},
   "outputs": [
    {
     "data": {
      "text/plain": [
       "<bound method NDFrame._add_numeric_operations.<locals>.median of 0       94852\n",
       "1       17279\n",
       "2       37761\n",
       "3       10741\n",
       "4      117768\n",
       "        ...  \n",
       "607    107355\n",
       "608     58160\n",
       "609     88116\n",
       "610     90112\n",
       "611     98155\n",
       "Name: Km, Length: 612, dtype: object>"
      ]
     },
     "execution_count": 50,
     "metadata": {},
     "output_type": "execute_result"
    }
   ],
   "source": [
    "carsome.Km.median"
   ]
  },
  {
   "cell_type": "code",
   "execution_count": 51,
   "id": "451574a4",
   "metadata": {},
   "outputs": [],
   "source": [
    "carsome['Km']=carsome.Km.str.replace('Range','94852')"
   ]
  },
  {
   "cell_type": "code",
   "execution_count": 52,
   "id": "662f2142",
   "metadata": {
    "scrolled": true
   },
   "outputs": [
    {
     "data": {
      "text/plain": [
       "array(['94852', '17279', '37761', '10741', '117768', '106698', '118155',\n",
       "       '103886', '76404', '105695', '60125', '78290', '97164', '79749',\n",
       "       '101529', '86844', '91496', '107891', '112871', '62663', '95247',\n",
       "       '74946', '87349', '100997', '104435', '119938', '41244', '136574',\n",
       "       '42700', '57604', '51615', '62254', '103943', '107608', '86180',\n",
       "       '137842', '116393', '27912', '111769', '61', '8073', '80337',\n",
       "       '39240', '78177', '87130', '110474', '30301', '67318', '68052',\n",
       "       '75717', '82099', '99432', '110207', '143151', '19547', '35504',\n",
       "       '53564', '69747', '120029', '149707', '83024', '102547', '68179',\n",
       "       '86089', '143169', '110824', '99711', '113800', '30367', '55369',\n",
       "       '60049', '98449', '109235', '58100', '100588', '70976', '35470',\n",
       "       '126015', '64105', '98684', '116856', '69952', '82939', '83224',\n",
       "       '58153', '68477', '105925', '108931', '73675', '374', '107305',\n",
       "       '50295', '89457', '51144', '89108', '62945', '46367', '101096',\n",
       "       '119612', '127938', '29483', '9332', '26657', '100679', '106646',\n",
       "       '28989', '45127', '58276', '81959', '94185', '91578', '61812',\n",
       "       '72002', '83168', '122566', '146699', '26974', '45504', '47663',\n",
       "       '67690', '69233', '109370', '70615', '79975', '28290', '81777',\n",
       "       '110532', '16191', '19219', '45361', '57695', '70925', '78975',\n",
       "       '104472', '104881', '122318', '127130', '140505', '91066',\n",
       "       '103262', '8879', '94328', '144028', '67197', '74182', '107575',\n",
       "       '76511', '116930', '125220', '73127', '77047', '23774', '33125',\n",
       "       '68655', '115161', '115608', '121622', '130508', '83982', '37',\n",
       "       '26797', '54473', '54513', '65207', '66506', '70118', '76709',\n",
       "       '89809', '91517', '91903', '102534', '112031', '117687', '118227',\n",
       "       '125482', '48010', '73427', '93935', '42523', '45759', '65520',\n",
       "       '74923', '74959', '79470', '89952', '92765', '93716', '98436',\n",
       "       '102139', '112172', '127153', '141320', '41649', '145965', '12314',\n",
       "       '70804', '77807', '127168', '8022', '42116', '50928', '52565',\n",
       "       '72634', '60685', '68126', '63130', '114363', '63008', '78548',\n",
       "       '87174', '93951', '94216', '3626', '34954', '37679', '37971',\n",
       "       '41608', '45924', '59747', '67857', '75383', '79206', '83754',\n",
       "       '105413', '27226', '64040', '109069', '50444', '6723', '23249',\n",
       "       '30501', '35334', '46055', '53317', '56416', '68105', '71092',\n",
       "       '80926', '81879', '81949', '82513', '85489', '100749', '102211',\n",
       "       '102638', '105964', '113451', '115126', '118063', '137369',\n",
       "       '13029', '17139', '17891', '19189', '19581', '23227', '25778',\n",
       "       '28213', '36403', '42308', '47400', '53876', '54715', '70649',\n",
       "       '89228', '89749', '93959', '95015', '97905', '102126', '103423',\n",
       "       '116321', '117759', '124067', '124388', '142722', '132049',\n",
       "       '52606', '66728', '87753', '88507', '91365', '94246', '8183',\n",
       "       '19669', '25353', '25496', '30131', '32120', '38785', '39152',\n",
       "       '44254', '51727', '52109', '53183', '53611', '54235', '55475',\n",
       "       '55484', '60395', '65807', '71447', '72355', '74219', '76278',\n",
       "       '83637', '83907', '85098', '90135', '91144', '94872', '95677',\n",
       "       '98716', '99933', '102752', '114573', '121800', '123350', '143178',\n",
       "       '15767', '15818', '16454', '61307', '17602', '19978', '21819',\n",
       "       '26678', '43278', '44199', '50912', '81659', '84327', '91292',\n",
       "       '91385', '93440', '100714', '110541', '116751', '59814', '62528',\n",
       "       '23379', '44872', '48221', '73247', '108249', '117454', '10730',\n",
       "       '14974', '35247', '38084', '38230', '39772', '63132', '66593',\n",
       "       '68408', '71462', '76035', '79934', '82362', '84705', '89296',\n",
       "       '91573', '93647', '99985', '113391', '99', '14057', '43442',\n",
       "       '51896', '54963', '63547', '69172', '77270', '81536', '87695',\n",
       "       '89386', '93525', '94150', '95885', '99479', '100224', '113594',\n",
       "       '116789', '122759', '128489', '52709', '134682', '49909', '36729',\n",
       "       '39146', '39529', '44994', '54766', '109312', '129803', '15828',\n",
       "       '49357', '64604', '67264', '72203', '18502', '56949', '78951',\n",
       "       '81103', '89332', '92471', '95846', '121996', '130354', '4352',\n",
       "       '90318', '115469', '16868', '34097', '64412', '70483', '91204',\n",
       "       '105979', '126309', '129057', '124', '13304', '19166', '36386',\n",
       "       '53794', '57646', '66546', '78033', '80216', '92305', '93198',\n",
       "       '99296', '100345', '109949', '110448', '137290', '9247', '44995',\n",
       "       '47224', '66380', '70981', '80561', '90594', '112592', '76366',\n",
       "       '14342', '14761', '22692', '42181', '51349', '58511', '67457',\n",
       "       '72354', '72686', '74558', '79010', '83380', '96419', '111331',\n",
       "       '111635', '120615', '34214', '35532', '42529', '52658', '58885',\n",
       "       '59576', '60854', '69043', '69270', '71503', '76513', '85274',\n",
       "       '91200', '92620', '93214', '93912', '94998', '108164', '108770',\n",
       "       '113001', '22338', '72591', '95511', '101446', '10955', '17857',\n",
       "       '1239', '5269', '22427', '80447', '92955', '101403', '85469',\n",
       "       '64257', '93026', '105895', '54878', '22770', '49331', '73099',\n",
       "       '74153', '106084', '113346', '39172', '18632', '56425', '65070',\n",
       "       '67471', '76397', '90404', '46567', '141366', '19734', '38061',\n",
       "       '42124', '54381', '62248', '64276', '65872', '69085', '72782',\n",
       "       '80433', '92328', '98719', '102563', '102899', '110268', '112975',\n",
       "       '22356', '64470', '65233', '68006', '72886', '82497', '93742',\n",
       "       '93860', '96051', '96717', '110000', '123577', '2307', '39840',\n",
       "       '53097', '56060', '61093', '77040', '82679', '83822', '84646',\n",
       "       '88467', '98588', '102875', '105612', '108470', '114494', '118131',\n",
       "       '127708', '13079', '17576', '23886', '33824', '53080', '58893',\n",
       "       '58142', '72101', '80165', '109031', '108595', '101398', '106270',\n",
       "       '116333', '151331', '156608', '79479', '91178', '112270', '129540',\n",
       "       '167546', '92109', '118771', '91368', '111956', '177528', '96775',\n",
       "       '115331', '53096', '63031', '86639', '208373', '92543', '121274',\n",
       "       '68383', '101292', '113043', '16851', '11051', '117876', '144710',\n",
       "       '213144', '122981', '107355', '58160', '88116', '90112', '98155'],\n",
       "      dtype=object)"
      ]
     },
     "execution_count": 52,
     "metadata": {},
     "output_type": "execute_result"
    }
   ],
   "source": [
    "carsome.Km.unique()"
   ]
  },
  {
   "cell_type": "code",
   "execution_count": 53,
   "id": "21d9502d",
   "metadata": {},
   "outputs": [],
   "source": [
    "carsome['Km']=carsome.Km.astype(int)"
   ]
  },
  {
   "cell_type": "code",
   "execution_count": 54,
   "id": "129108bf",
   "metadata": {},
   "outputs": [],
   "source": [
    "carsome['Price_in_RM']=carsome.Price_in_RM.str.replace(',',\"\")"
   ]
  },
  {
   "cell_type": "code",
   "execution_count": 55,
   "id": "fbe20eb0",
   "metadata": {},
   "outputs": [],
   "source": [
    "carsome['Price_in_RM']=carsome.Price_in_RM.astype(int)"
   ]
  },
  {
   "cell_type": "markdown",
   "id": "5950d9ff",
   "metadata": {},
   "source": [
    "## Price is in Malyasian Currency so converted into Rupees"
   ]
  },
  {
   "cell_type": "code",
   "execution_count": 56,
   "id": "320d6666",
   "metadata": {},
   "outputs": [],
   "source": [
    "price=[]\n",
    "for i in carsome.Price_in_RM:\n",
    "    price.append(i*18)\n",
    "carsome[\"Price_in_Rs\"]=price"
   ]
  },
  {
   "cell_type": "code",
   "execution_count": 57,
   "id": "571396b2",
   "metadata": {},
   "outputs": [
    {
     "data": {
      "text/html": [
       "<div>\n",
       "<style scoped>\n",
       "    .dataframe tbody tr th:only-of-type {\n",
       "        vertical-align: middle;\n",
       "    }\n",
       "\n",
       "    .dataframe tbody tr th {\n",
       "        vertical-align: top;\n",
       "    }\n",
       "\n",
       "    .dataframe thead th {\n",
       "        text-align: right;\n",
       "    }\n",
       "</style>\n",
       "<table border=\"1\" class=\"dataframe\">\n",
       "  <thead>\n",
       "    <tr style=\"text-align: right;\">\n",
       "      <th></th>\n",
       "      <th>Cars_Name</th>\n",
       "      <th>Model_Name</th>\n",
       "      <th>Location</th>\n",
       "      <th>Year</th>\n",
       "      <th>Transmission_type</th>\n",
       "      <th>Km</th>\n",
       "      <th>Price_in_RM</th>\n",
       "      <th>Touchscreen_Audio_Display</th>\n",
       "      <th>SRS_Airbag</th>\n",
       "      <th>Keyless_Push_Star</th>\n",
       "      <th>Price_in_Rs</th>\n",
       "    </tr>\n",
       "  </thead>\n",
       "  <tbody>\n",
       "    <tr>\n",
       "      <th>0</th>\n",
       "      <td>Mazda</td>\n",
       "      <td>CX-32WD2.0</td>\n",
       "      <td>Kuala</td>\n",
       "      <td>2016</td>\n",
       "      <td>Automatic</td>\n",
       "      <td>94852</td>\n",
       "      <td>81900</td>\n",
       "      <td>Present</td>\n",
       "      <td>Not Present</td>\n",
       "      <td>Not Present</td>\n",
       "      <td>1474200</td>\n",
       "    </tr>\n",
       "    <tr>\n",
       "      <th>1</th>\n",
       "      <td>Proton</td>\n",
       "      <td>X70EXECUTIVE</td>\n",
       "      <td>Kuala</td>\n",
       "      <td>2020</td>\n",
       "      <td>Automatic</td>\n",
       "      <td>17279</td>\n",
       "      <td>96400</td>\n",
       "      <td>Present</td>\n",
       "      <td>Not Present</td>\n",
       "      <td>Present</td>\n",
       "      <td>1735200</td>\n",
       "    </tr>\n",
       "    <tr>\n",
       "      <th>2</th>\n",
       "      <td>Honda</td>\n",
       "      <td>HR-VRS1.8</td>\n",
       "      <td>Johor</td>\n",
       "      <td>2019</td>\n",
       "      <td>Automatic</td>\n",
       "      <td>37761</td>\n",
       "      <td>95900</td>\n",
       "      <td>Present</td>\n",
       "      <td>Not Present</td>\n",
       "      <td>Present</td>\n",
       "      <td>1726200</td>\n",
       "    </tr>\n",
       "    <tr>\n",
       "      <th>3</th>\n",
       "      <td>Toyota</td>\n",
       "      <td>YARISG1.5</td>\n",
       "      <td>Pulau</td>\n",
       "      <td>2019</td>\n",
       "      <td>Automatic</td>\n",
       "      <td>10741</td>\n",
       "      <td>70400</td>\n",
       "      <td>Not Present</td>\n",
       "      <td>Not Present</td>\n",
       "      <td>Present</td>\n",
       "      <td>1267200</td>\n",
       "    </tr>\n",
       "    <tr>\n",
       "      <th>4</th>\n",
       "      <td>Perodua</td>\n",
       "      <td>AXIAG1.0</td>\n",
       "      <td>Selangor</td>\n",
       "      <td>2015</td>\n",
       "      <td>Automatic</td>\n",
       "      <td>117768</td>\n",
       "      <td>24400</td>\n",
       "      <td>Not Present</td>\n",
       "      <td>Present</td>\n",
       "      <td>Not Present</td>\n",
       "      <td>439200</td>\n",
       "    </tr>\n",
       "  </tbody>\n",
       "</table>\n",
       "</div>"
      ],
      "text/plain": [
       "  Cars_Name    Model_Name  Location  Year Transmission_type      Km  \\\n",
       "0     Mazda    CX-32WD2.0     Kuala  2016         Automatic   94852   \n",
       "1    Proton  X70EXECUTIVE     Kuala  2020         Automatic   17279   \n",
       "2     Honda     HR-VRS1.8     Johor  2019         Automatic   37761   \n",
       "3    Toyota     YARISG1.5     Pulau  2019         Automatic   10741   \n",
       "4   Perodua      AXIAG1.0  Selangor  2015         Automatic  117768   \n",
       "\n",
       "   Price_in_RM Touchscreen_Audio_Display   SRS_Airbag Keyless_Push_Star  \\\n",
       "0        81900                   Present  Not Present       Not Present   \n",
       "1        96400                   Present  Not Present           Present   \n",
       "2        95900                   Present  Not Present           Present   \n",
       "3        70400               Not Present  Not Present           Present   \n",
       "4        24400               Not Present      Present       Not Present   \n",
       "\n",
       "   Price_in_Rs  \n",
       "0      1474200  \n",
       "1      1735200  \n",
       "2      1726200  \n",
       "3      1267200  \n",
       "4       439200  "
      ]
     },
     "execution_count": 57,
     "metadata": {},
     "output_type": "execute_result"
    }
   ],
   "source": [
    "carsome.head()"
   ]
  },
  {
   "cell_type": "code",
   "execution_count": 58,
   "id": "48d4e931",
   "metadata": {},
   "outputs": [],
   "source": [
    "carsome.drop(labels='Price_in_RM',inplace=True,axis=1)"
   ]
  },
  {
   "cell_type": "code",
   "execution_count": 59,
   "id": "3441006b",
   "metadata": {},
   "outputs": [
    {
     "data": {
      "text/html": [
       "<div>\n",
       "<style scoped>\n",
       "    .dataframe tbody tr th:only-of-type {\n",
       "        vertical-align: middle;\n",
       "    }\n",
       "\n",
       "    .dataframe tbody tr th {\n",
       "        vertical-align: top;\n",
       "    }\n",
       "\n",
       "    .dataframe thead th {\n",
       "        text-align: right;\n",
       "    }\n",
       "</style>\n",
       "<table border=\"1\" class=\"dataframe\">\n",
       "  <thead>\n",
       "    <tr style=\"text-align: right;\">\n",
       "      <th></th>\n",
       "      <th>Cars_Name</th>\n",
       "      <th>Model_Name</th>\n",
       "      <th>Location</th>\n",
       "      <th>Year</th>\n",
       "      <th>Transmission_type</th>\n",
       "      <th>Km</th>\n",
       "      <th>Touchscreen_Audio_Display</th>\n",
       "      <th>SRS_Airbag</th>\n",
       "      <th>Keyless_Push_Star</th>\n",
       "      <th>Price_in_Rs</th>\n",
       "    </tr>\n",
       "  </thead>\n",
       "  <tbody>\n",
       "    <tr>\n",
       "      <th>0</th>\n",
       "      <td>Mazda</td>\n",
       "      <td>CX-32WD2.0</td>\n",
       "      <td>Kuala</td>\n",
       "      <td>2016</td>\n",
       "      <td>Automatic</td>\n",
       "      <td>94852</td>\n",
       "      <td>Present</td>\n",
       "      <td>Not Present</td>\n",
       "      <td>Not Present</td>\n",
       "      <td>1474200</td>\n",
       "    </tr>\n",
       "    <tr>\n",
       "      <th>1</th>\n",
       "      <td>Proton</td>\n",
       "      <td>X70EXECUTIVE</td>\n",
       "      <td>Kuala</td>\n",
       "      <td>2020</td>\n",
       "      <td>Automatic</td>\n",
       "      <td>17279</td>\n",
       "      <td>Present</td>\n",
       "      <td>Not Present</td>\n",
       "      <td>Present</td>\n",
       "      <td>1735200</td>\n",
       "    </tr>\n",
       "    <tr>\n",
       "      <th>2</th>\n",
       "      <td>Honda</td>\n",
       "      <td>HR-VRS1.8</td>\n",
       "      <td>Johor</td>\n",
       "      <td>2019</td>\n",
       "      <td>Automatic</td>\n",
       "      <td>37761</td>\n",
       "      <td>Present</td>\n",
       "      <td>Not Present</td>\n",
       "      <td>Present</td>\n",
       "      <td>1726200</td>\n",
       "    </tr>\n",
       "    <tr>\n",
       "      <th>3</th>\n",
       "      <td>Toyota</td>\n",
       "      <td>YARISG1.5</td>\n",
       "      <td>Pulau</td>\n",
       "      <td>2019</td>\n",
       "      <td>Automatic</td>\n",
       "      <td>10741</td>\n",
       "      <td>Not Present</td>\n",
       "      <td>Not Present</td>\n",
       "      <td>Present</td>\n",
       "      <td>1267200</td>\n",
       "    </tr>\n",
       "    <tr>\n",
       "      <th>4</th>\n",
       "      <td>Perodua</td>\n",
       "      <td>AXIAG1.0</td>\n",
       "      <td>Selangor</td>\n",
       "      <td>2015</td>\n",
       "      <td>Automatic</td>\n",
       "      <td>117768</td>\n",
       "      <td>Not Present</td>\n",
       "      <td>Present</td>\n",
       "      <td>Not Present</td>\n",
       "      <td>439200</td>\n",
       "    </tr>\n",
       "  </tbody>\n",
       "</table>\n",
       "</div>"
      ],
      "text/plain": [
       "  Cars_Name    Model_Name  Location  Year Transmission_type      Km  \\\n",
       "0     Mazda    CX-32WD2.0     Kuala  2016         Automatic   94852   \n",
       "1    Proton  X70EXECUTIVE     Kuala  2020         Automatic   17279   \n",
       "2     Honda     HR-VRS1.8     Johor  2019         Automatic   37761   \n",
       "3    Toyota     YARISG1.5     Pulau  2019         Automatic   10741   \n",
       "4   Perodua      AXIAG1.0  Selangor  2015         Automatic  117768   \n",
       "\n",
       "  Touchscreen_Audio_Display   SRS_Airbag Keyless_Push_Star  Price_in_Rs  \n",
       "0                   Present  Not Present       Not Present      1474200  \n",
       "1                   Present  Not Present           Present      1735200  \n",
       "2                   Present  Not Present           Present      1726200  \n",
       "3               Not Present  Not Present           Present      1267200  \n",
       "4               Not Present      Present       Not Present       439200  "
      ]
     },
     "execution_count": 59,
     "metadata": {},
     "output_type": "execute_result"
    }
   ],
   "source": [
    "carsome.head()"
   ]
  },
  {
   "cell_type": "code",
   "execution_count": 60,
   "id": "a88c379d",
   "metadata": {},
   "outputs": [],
   "source": [
    "carsome['Transmission_type'] = carsome['Transmission_type'].apply(lambda x:x.replace('km','Automatic'))"
   ]
  },
  {
   "cell_type": "code",
   "execution_count": 61,
   "id": "87687c14",
   "metadata": {},
   "outputs": [],
   "source": [
    "carsome['Location']=carsome.Location.str.replace('Automatic','Kuala')"
   ]
  },
  {
   "cell_type": "code",
   "execution_count": 62,
   "id": "26bc5321",
   "metadata": {},
   "outputs": [],
   "source": [
    "carsome.to_csv(\"Carsome_Data_Visual.csv\")"
   ]
  },
  {
   "cell_type": "markdown",
   "id": "afa04301",
   "metadata": {},
   "source": [
    "# Cleaned DataFrame"
   ]
  },
  {
   "cell_type": "code",
   "execution_count": 63,
   "id": "a4d744a5",
   "metadata": {},
   "outputs": [
    {
     "data": {
      "text/html": [
       "<div>\n",
       "<style scoped>\n",
       "    .dataframe tbody tr th:only-of-type {\n",
       "        vertical-align: middle;\n",
       "    }\n",
       "\n",
       "    .dataframe tbody tr th {\n",
       "        vertical-align: top;\n",
       "    }\n",
       "\n",
       "    .dataframe thead th {\n",
       "        text-align: right;\n",
       "    }\n",
       "</style>\n",
       "<table border=\"1\" class=\"dataframe\">\n",
       "  <thead>\n",
       "    <tr style=\"text-align: right;\">\n",
       "      <th></th>\n",
       "      <th>Cars_Name</th>\n",
       "      <th>Model_Name</th>\n",
       "      <th>Location</th>\n",
       "      <th>Year</th>\n",
       "      <th>Transmission_type</th>\n",
       "      <th>Km</th>\n",
       "      <th>Touchscreen_Audio_Display</th>\n",
       "      <th>SRS_Airbag</th>\n",
       "      <th>Keyless_Push_Star</th>\n",
       "      <th>Price_in_Rs</th>\n",
       "    </tr>\n",
       "  </thead>\n",
       "  <tbody>\n",
       "    <tr>\n",
       "      <th>0</th>\n",
       "      <td>Mazda</td>\n",
       "      <td>CX-32WD2.0</td>\n",
       "      <td>Kuala</td>\n",
       "      <td>2016</td>\n",
       "      <td>Automatic</td>\n",
       "      <td>94852</td>\n",
       "      <td>Present</td>\n",
       "      <td>Not Present</td>\n",
       "      <td>Not Present</td>\n",
       "      <td>1474200</td>\n",
       "    </tr>\n",
       "    <tr>\n",
       "      <th>1</th>\n",
       "      <td>Proton</td>\n",
       "      <td>X70EXECUTIVE</td>\n",
       "      <td>Kuala</td>\n",
       "      <td>2020</td>\n",
       "      <td>Automatic</td>\n",
       "      <td>17279</td>\n",
       "      <td>Present</td>\n",
       "      <td>Not Present</td>\n",
       "      <td>Present</td>\n",
       "      <td>1735200</td>\n",
       "    </tr>\n",
       "    <tr>\n",
       "      <th>2</th>\n",
       "      <td>Honda</td>\n",
       "      <td>HR-VRS1.8</td>\n",
       "      <td>Johor</td>\n",
       "      <td>2019</td>\n",
       "      <td>Automatic</td>\n",
       "      <td>37761</td>\n",
       "      <td>Present</td>\n",
       "      <td>Not Present</td>\n",
       "      <td>Present</td>\n",
       "      <td>1726200</td>\n",
       "    </tr>\n",
       "    <tr>\n",
       "      <th>3</th>\n",
       "      <td>Toyota</td>\n",
       "      <td>YARISG1.5</td>\n",
       "      <td>Pulau</td>\n",
       "      <td>2019</td>\n",
       "      <td>Automatic</td>\n",
       "      <td>10741</td>\n",
       "      <td>Not Present</td>\n",
       "      <td>Not Present</td>\n",
       "      <td>Present</td>\n",
       "      <td>1267200</td>\n",
       "    </tr>\n",
       "    <tr>\n",
       "      <th>4</th>\n",
       "      <td>Perodua</td>\n",
       "      <td>AXIAG1.0</td>\n",
       "      <td>Selangor</td>\n",
       "      <td>2015</td>\n",
       "      <td>Automatic</td>\n",
       "      <td>117768</td>\n",
       "      <td>Not Present</td>\n",
       "      <td>Present</td>\n",
       "      <td>Not Present</td>\n",
       "      <td>439200</td>\n",
       "    </tr>\n",
       "  </tbody>\n",
       "</table>\n",
       "</div>"
      ],
      "text/plain": [
       "  Cars_Name    Model_Name  Location  Year Transmission_type      Km  \\\n",
       "0     Mazda    CX-32WD2.0     Kuala  2016         Automatic   94852   \n",
       "1    Proton  X70EXECUTIVE     Kuala  2020         Automatic   17279   \n",
       "2     Honda     HR-VRS1.8     Johor  2019         Automatic   37761   \n",
       "3    Toyota     YARISG1.5     Pulau  2019         Automatic   10741   \n",
       "4   Perodua      AXIAG1.0  Selangor  2015         Automatic  117768   \n",
       "\n",
       "  Touchscreen_Audio_Display   SRS_Airbag Keyless_Push_Star  Price_in_Rs  \n",
       "0                   Present  Not Present       Not Present      1474200  \n",
       "1                   Present  Not Present           Present      1735200  \n",
       "2                   Present  Not Present           Present      1726200  \n",
       "3               Not Present  Not Present           Present      1267200  \n",
       "4               Not Present      Present       Not Present       439200  "
      ]
     },
     "execution_count": 63,
     "metadata": {},
     "output_type": "execute_result"
    }
   ],
   "source": [
    "carsome.head()"
   ]
  },
  {
   "cell_type": "markdown",
   "id": "b948c11c",
   "metadata": {},
   "source": [
    "# Data Analysis\n",
    "## Uni-variate Analysis"
   ]
  },
  {
   "cell_type": "code",
   "execution_count": 64,
   "id": "cbd62d6e",
   "metadata": {},
   "outputs": [
    {
     "data": {
      "text/html": [
       "<div>\n",
       "<style scoped>\n",
       "    .dataframe tbody tr th:only-of-type {\n",
       "        vertical-align: middle;\n",
       "    }\n",
       "\n",
       "    .dataframe tbody tr th {\n",
       "        vertical-align: top;\n",
       "    }\n",
       "\n",
       "    .dataframe thead th {\n",
       "        text-align: right;\n",
       "    }\n",
       "</style>\n",
       "<table border=\"1\" class=\"dataframe\">\n",
       "  <thead>\n",
       "    <tr style=\"text-align: right;\">\n",
       "      <th></th>\n",
       "      <th>Cars_Name</th>\n",
       "      <th>Model_Name</th>\n",
       "      <th>Location</th>\n",
       "      <th>Transmission_type</th>\n",
       "      <th>Touchscreen_Audio_Display</th>\n",
       "      <th>SRS_Airbag</th>\n",
       "      <th>Keyless_Push_Star</th>\n",
       "    </tr>\n",
       "  </thead>\n",
       "  <tbody>\n",
       "    <tr>\n",
       "      <th>count</th>\n",
       "      <td>612</td>\n",
       "      <td>612</td>\n",
       "      <td>612</td>\n",
       "      <td>612</td>\n",
       "      <td>612</td>\n",
       "      <td>612</td>\n",
       "      <td>612</td>\n",
       "    </tr>\n",
       "    <tr>\n",
       "      <th>unique</th>\n",
       "      <td>20</td>\n",
       "      <td>160</td>\n",
       "      <td>7</td>\n",
       "      <td>2</td>\n",
       "      <td>2</td>\n",
       "      <td>2</td>\n",
       "      <td>2</td>\n",
       "    </tr>\n",
       "    <tr>\n",
       "      <th>top</th>\n",
       "      <td>Perodua</td>\n",
       "      <td>AXIAG1.0</td>\n",
       "      <td>Selangor</td>\n",
       "      <td>Automatic</td>\n",
       "      <td>Not Present</td>\n",
       "      <td>Not Present</td>\n",
       "      <td>Not Present</td>\n",
       "    </tr>\n",
       "    <tr>\n",
       "      <th>freq</th>\n",
       "      <td>222</td>\n",
       "      <td>47</td>\n",
       "      <td>229</td>\n",
       "      <td>572</td>\n",
       "      <td>469</td>\n",
       "      <td>352</td>\n",
       "      <td>371</td>\n",
       "    </tr>\n",
       "  </tbody>\n",
       "</table>\n",
       "</div>"
      ],
      "text/plain": [
       "       Cars_Name Model_Name  Location Transmission_type  \\\n",
       "count        612        612       612               612   \n",
       "unique        20        160         7                 2   \n",
       "top      Perodua   AXIAG1.0  Selangor         Automatic   \n",
       "freq         222         47       229               572   \n",
       "\n",
       "       Touchscreen_Audio_Display   SRS_Airbag Keyless_Push_Star  \n",
       "count                        612          612               612  \n",
       "unique                         2            2                 2  \n",
       "top                  Not Present  Not Present       Not Present  \n",
       "freq                         469          352               371  "
      ]
     },
     "execution_count": 64,
     "metadata": {},
     "output_type": "execute_result"
    }
   ],
   "source": [
    "carsome.describe(include=object)"
   ]
  },
  {
   "cell_type": "code",
   "execution_count": 65,
   "id": "22628ccd",
   "metadata": {},
   "outputs": [
    {
     "data": {
      "text/html": [
       "<div>\n",
       "<style scoped>\n",
       "    .dataframe tbody tr th:only-of-type {\n",
       "        vertical-align: middle;\n",
       "    }\n",
       "\n",
       "    .dataframe tbody tr th {\n",
       "        vertical-align: top;\n",
       "    }\n",
       "\n",
       "    .dataframe thead th {\n",
       "        text-align: right;\n",
       "    }\n",
       "</style>\n",
       "<table border=\"1\" class=\"dataframe\">\n",
       "  <thead>\n",
       "    <tr style=\"text-align: right;\">\n",
       "      <th></th>\n",
       "      <th>Year</th>\n",
       "      <th>Km</th>\n",
       "      <th>Price_in_Rs</th>\n",
       "    </tr>\n",
       "  </thead>\n",
       "  <tbody>\n",
       "    <tr>\n",
       "      <th>count</th>\n",
       "      <td>612.000000</td>\n",
       "      <td>612.000000</td>\n",
       "      <td>6.120000e+02</td>\n",
       "    </tr>\n",
       "    <tr>\n",
       "      <th>mean</th>\n",
       "      <td>2016.369281</td>\n",
       "      <td>76284.022876</td>\n",
       "      <td>1.032887e+06</td>\n",
       "    </tr>\n",
       "    <tr>\n",
       "      <th>std</th>\n",
       "      <td>2.216787</td>\n",
       "      <td>35312.971378</td>\n",
       "      <td>7.027298e+05</td>\n",
       "    </tr>\n",
       "    <tr>\n",
       "      <th>min</th>\n",
       "      <td>2004.000000</td>\n",
       "      <td>37.000000</td>\n",
       "      <td>2.772000e+05</td>\n",
       "    </tr>\n",
       "    <tr>\n",
       "      <th>25%</th>\n",
       "      <td>2015.000000</td>\n",
       "      <td>52645.000000</td>\n",
       "      <td>5.472000e+05</td>\n",
       "    </tr>\n",
       "    <tr>\n",
       "      <th>50%</th>\n",
       "      <td>2016.000000</td>\n",
       "      <td>78963.000000</td>\n",
       "      <td>8.388000e+05</td>\n",
       "    </tr>\n",
       "    <tr>\n",
       "      <th>75%</th>\n",
       "      <td>2018.000000</td>\n",
       "      <td>101399.250000</td>\n",
       "      <td>1.296450e+06</td>\n",
       "    </tr>\n",
       "    <tr>\n",
       "      <th>max</th>\n",
       "      <td>2021.000000</td>\n",
       "      <td>213144.000000</td>\n",
       "      <td>7.344000e+06</td>\n",
       "    </tr>\n",
       "  </tbody>\n",
       "</table>\n",
       "</div>"
      ],
      "text/plain": [
       "              Year             Km   Price_in_Rs\n",
       "count   612.000000     612.000000  6.120000e+02\n",
       "mean   2016.369281   76284.022876  1.032887e+06\n",
       "std       2.216787   35312.971378  7.027298e+05\n",
       "min    2004.000000      37.000000  2.772000e+05\n",
       "25%    2015.000000   52645.000000  5.472000e+05\n",
       "50%    2016.000000   78963.000000  8.388000e+05\n",
       "75%    2018.000000  101399.250000  1.296450e+06\n",
       "max    2021.000000  213144.000000  7.344000e+06"
      ]
     },
     "execution_count": 65,
     "metadata": {},
     "output_type": "execute_result"
    }
   ],
   "source": [
    "carsome.describe()"
   ]
  },
  {
   "cell_type": "markdown",
   "id": "eb94536b",
   "metadata": {},
   "source": [
    "========================================================================================================================"
   ]
  },
  {
   "cell_type": "code",
   "execution_count": 66,
   "id": "5099199f",
   "metadata": {},
   "outputs": [
    {
     "data": {
      "image/png": "[encoded data removed]",
      "text/plain": [
       "<Figure size 648x360 with 1 Axes>"
      ]
     },
     "metadata": {
      "needs_background": "light"
     },
     "output_type": "display_data"
    }
   ],
   "source": [
    "plt.figure(figsize=(9,5))\n",
    "sns.boxplot(carsome.Price_in_Rs)\n",
    "plt.show()"
   ]
  },
  {
   "cell_type": "markdown",
   "id": "e37f2317",
   "metadata": {},
   "source": [
    "### Cars Price_in_Rs\n",
    "- Cars Price_in_Rs is on an average 10 lakhs.\n",
    "- Price_in_Rs of cars is mininum and maximum 2 lakhs approx and 73.4 lakhs approx respectively.\n",
    "- Most of the cars in Price_in_Rs range of 5.5 to 13 lakhs."
   ]
  },
  {
   "cell_type": "markdown",
   "id": "899bbbcb",
   "metadata": {},
   "source": [
    "========================================================================================================================"
   ]
  },
  {
   "cell_type": "code",
   "execution_count": 67,
   "id": "ea6d5387",
   "metadata": {},
   "outputs": [
    {
     "data": {
      "image/png": "[encoded data removed]",
      "text/plain": [
       "<Figure size 648x360 with 1 Axes>"
      ]
     },
     "metadata": {
      "needs_background": "light"
     },
     "output_type": "display_data"
    }
   ],
   "source": [
    "plt.figure(figsize=(9,5))\n",
    "sns.boxplot(carsome.Year)\n",
    "plt.show()"
   ]
  },
  {
   "cell_type": "markdown",
   "id": "ef3db2db",
   "metadata": {},
   "source": [
    "### Year\n",
    "+ Most of the cars from 2016. \n",
    "- Oldest car is from 2004 and newest car is from 2021. \n",
    "- Most of the cars is between a range of 2015 to 2018."
   ]
  },
  {
   "cell_type": "markdown",
   "id": "22af506b",
   "metadata": {},
   "source": [
    "======================================================================================================================="
   ]
  },
  {
   "cell_type": "code",
   "execution_count": 68,
   "id": "7e435b04",
   "metadata": {},
   "outputs": [
    {
     "data": {
      "image/png": "[encoded data removed]",
      "text/plain": [
       "<Figure size 648x360 with 1 Axes>"
      ]
     },
     "metadata": {
      "needs_background": "light"
     },
     "output_type": "display_data"
    }
   ],
   "source": [
    "plt.figure(figsize=(9,5))\n",
    "sns.boxplot(carsome.Km)\n",
    "plt.show()"
   ]
  },
  {
   "cell_type": "markdown",
   "id": "3672135b",
   "metadata": {},
   "source": [
    "### Car_Driven_in_Km\n",
    "- Most of the cars driven for 76 Thousand km. \n",
    "- Smallest driven car is 37 km and longest driven car is 2 lakhs km. \n",
    "- Most of the cars driven in between a range of 52 Thousand km to 1 lakhs km."
   ]
  },
  {
   "cell_type": "markdown",
   "id": "5c2c80d4",
   "metadata": {},
   "source": [
    "======================================================================================================================="
   ]
  },
  {
   "cell_type": "code",
   "execution_count": 69,
   "id": "cf307116",
   "metadata": {},
   "outputs": [
    {
     "data": {
      "image/png": "[encoded data removed]",
      "text/plain": [
       "<Figure size 648x360 with 1 Axes>"
      ]
     },
     "metadata": {
      "needs_background": "light"
     },
     "output_type": "display_data"
    }
   ],
   "source": [
    "Counts = carsome.Cars_Name.value_counts()[0:15] \n",
    "Names = Counts.index\n",
    "plt.figure(figsize=(9,5))\n",
    "postionofbars = list(range(len(Names)))\n",
    "plt.bar(postionofbars,Counts,color=\"green\",edgecolor=\"black\")\n",
    "plt.xticks(postionofbars,Names)\n",
    "plt.xticks(rotation=45)\n",
    "plt.title(\"Top company cars are uploaded in Carsome website\",fontsize= \"15\")\n",
    "plt.xticks(fontsize= \"15\" )\n",
    "plt.show()"
   ]
  },
  {
   "cell_type": "markdown",
   "id": "dcb816f4",
   "metadata": {},
   "source": [
    "+ Perodua company cars are uploaded more in carsome website.\n",
    "+ Followed Honda Proton Toyota"
   ]
  },
  {
   "cell_type": "markdown",
   "id": "8b67574b",
   "metadata": {},
   "source": [
    "========================================================================================================================"
   ]
  },
  {
   "cell_type": "code",
   "execution_count": 70,
   "id": "4d88c2f5",
   "metadata": {},
   "outputs": [
    {
     "data": {
      "image/png": "[encoded data removed]",
      "text/plain": [
       "<Figure size 648x360 with 1 Axes>"
      ]
     },
     "metadata": {
      "needs_background": "light"
     },
     "output_type": "display_data"
    }
   ],
   "source": [
    "Counts = carsome.Location.value_counts() \n",
    "Names = Counts.index\n",
    "plt.figure(figsize=(9,5))\n",
    "postionofbars = list(range(len(Names)))\n",
    "plt.bar(postionofbars,Counts,color=\"orange\",edgecolor=\"black\")\n",
    "plt.xticks(postionofbars,Names)\n",
    "plt.title(\"Top Location cars are uploaded in Carsome website\",fontsize= \"15\")\n",
    "plt.xticks(fontsize= \"15\" )\n",
    "plt.show()"
   ]
  },
  {
   "cell_type": "markdown",
   "id": "ae6490b9",
   "metadata": {},
   "source": [
    "+ Most of the cars are from Selangor\n",
    "+ Followed by Kuala Pulau Johor"
   ]
  },
  {
   "cell_type": "markdown",
   "id": "3bcdd8a8",
   "metadata": {},
   "source": [
    "======================================================================================================================="
   ]
  },
  {
   "cell_type": "code",
   "execution_count": 71,
   "id": "917d1bb0",
   "metadata": {},
   "outputs": [
    {
     "data": {
      "image/png": "[encoded data removed]",
      "text/plain": [
       "<Figure size 360x504 with 1 Axes>"
      ]
     },
     "metadata": {
      "needs_background": "light"
     },
     "output_type": "display_data"
    }
   ],
   "source": [
    "plt.figure(figsize=(5,7))\n",
    "sns.countplot(x='Transmission_type',data=carsome)\n",
    "plt.show()"
   ]
  },
  {
   "cell_type": "markdown",
   "id": "9f02f32f",
   "metadata": {},
   "source": [
    "### Automatic cars uploaded more in carsome website"
   ]
  },
  {
   "cell_type": "markdown",
   "id": "4187262c",
   "metadata": {},
   "source": [
    "========================================================================================================================="
   ]
  },
  {
   "cell_type": "code",
   "execution_count": 72,
   "id": "d87ada9c",
   "metadata": {},
   "outputs": [
    {
     "data": {
      "image/png": "[encoded data removed]",
      "text/plain": [
       "<Figure size 360x504 with 1 Axes>"
      ]
     },
     "metadata": {
      "needs_background": "light"
     },
     "output_type": "display_data"
    }
   ],
   "source": [
    "plt.figure(figsize=(5,7))\n",
    "sns.countplot(x='Touchscreen_Audio_Display',data=carsome)\n",
    "plt.show()"
   ]
  },
  {
   "cell_type": "markdown",
   "id": "f2e55a4e",
   "metadata": {},
   "source": [
    "### In most of the cars Touchscreen Audio Display is not present"
   ]
  },
  {
   "cell_type": "markdown",
   "id": "b6aa2365",
   "metadata": {},
   "source": [
    "========================================================================================================================="
   ]
  },
  {
   "cell_type": "code",
   "execution_count": 73,
   "id": "c25a1292",
   "metadata": {},
   "outputs": [
    {
     "data": {
      "image/png": "[encoded data removed]",
      "text/plain": [
       "<Figure size 360x504 with 1 Axes>"
      ]
     },
     "metadata": {
      "needs_background": "light"
     },
     "output_type": "display_data"
    }
   ],
   "source": [
    "plt.figure(figsize=(5,7))\n",
    "sns.countplot(x='SRS_Airbag',data=carsome)\n",
    "plt.show()"
   ]
  },
  {
   "cell_type": "markdown",
   "id": "081a54f2",
   "metadata": {},
   "source": [
    "### In most of the cars SRS Airbag is not present"
   ]
  },
  {
   "cell_type": "markdown",
   "id": "7bf610a8",
   "metadata": {},
   "source": [
    "========================================================================================================================"
   ]
  },
  {
   "cell_type": "code",
   "execution_count": 74,
   "id": "214f8b06",
   "metadata": {},
   "outputs": [
    {
     "data": {
      "image/png": "[encoded data removed]",
      "text/plain": [
       "<Figure size 360x504 with 1 Axes>"
      ]
     },
     "metadata": {
      "needs_background": "light"
     },
     "output_type": "display_data"
    }
   ],
   "source": [
    "plt.figure(figsize=(5,7))\n",
    "sns.countplot(x='Keyless_Push_Star',data=carsome)\n",
    "plt.show()"
   ]
  },
  {
   "cell_type": "markdown",
   "id": "edff971c",
   "metadata": {},
   "source": [
    "### In most of the cars keyless push start is not present"
   ]
  },
  {
   "cell_type": "markdown",
   "id": "f1d16458",
   "metadata": {},
   "source": [
    "=========================================================================================================================\n",
    "# Bi-variate Analysis"
   ]
  },
  {
   "cell_type": "markdown",
   "id": "e726a4d0",
   "metadata": {},
   "source": [
    "## Cars according to price range"
   ]
  },
  {
   "cell_type": "code",
   "execution_count": 75,
   "id": "92972e8a",
   "metadata": {},
   "outputs": [
    {
     "data": {
      "image/png": "[encoded data removed]",
      "text/plain": [
       "<Figure size 648x360 with 1 Axes>"
      ]
     },
     "metadata": {
      "needs_background": "light"
     },
     "output_type": "display_data"
    }
   ],
   "source": [
    "plt.figure(figsize=(9,5))\n",
    "sns.scatterplot(x='Price_in_Rs',y='Cars_Name',data=carsome)\n",
    "plt.show()"
   ]
  },
  {
   "cell_type": "markdown",
   "id": "30e901ea",
   "metadata": {},
   "source": [
    "+ Tesla cars are more expensive compare to other cars\n",
    "+ Suzuki, Proton, Perodua and Nissan are less in prices\n",
    "+ Proton, Honda, Toyota and Perodua gives varieties of cars with respect to price"
   ]
  },
  {
   "cell_type": "code",
   "execution_count": 76,
   "id": "5c81c410",
   "metadata": {},
   "outputs": [
    {
     "data": {
      "image/png": "[encoded data removed]",
      "text/plain": [
       "<Figure size 648x360 with 1 Axes>"
      ]
     },
     "metadata": {
      "needs_background": "light"
     },
     "output_type": "display_data"
    }
   ],
   "source": [
    "plt.figure(figsize=(9,5))\n",
    "sns.boxplot(x='Cars_Name',y='Price_in_Rs',data=carsome)\n",
    "plt.xticks(rotation=45)\n",
    "plt.show()"
   ]
  },
  {
   "cell_type": "code",
   "execution_count": 77,
   "id": "75d6b29c",
   "metadata": {},
   "outputs": [
    {
     "data": {
      "image/png": "[encoded data removed]",
      "text/plain": [
       "<Figure size 648x360 with 1 Axes>"
      ]
     },
     "metadata": {
      "needs_background": "light"
     },
     "output_type": "display_data"
    }
   ],
   "source": [
    "plt.figure(figsize=(9,5))\n",
    "sns.lineplot(x='Cars_Name',y='Price_in_Rs',data=carsome)\n",
    "plt.xticks(rotation=45)\n",
    "plt.show()"
   ]
  },
  {
   "cell_type": "markdown",
   "id": "5571b676",
   "metadata": {},
   "source": [
    "========================================================================================================================\n",
    "## Cars according to Year bought by owner"
   ]
  },
  {
   "cell_type": "code",
   "execution_count": 78,
   "id": "6e40a103",
   "metadata": {},
   "outputs": [
    {
     "data": {
      "image/png": "[encoded data removed]",
      "text/plain": [
       "<Figure size 648x360 with 1 Axes>"
      ]
     },
     "metadata": {
      "needs_background": "light"
     },
     "output_type": "display_data"
    }
   ],
   "source": [
    "plt.figure(figsize=(9,5))\n",
    "sns.scatterplot(x='Cars_Name',y='Year',hue=\"Transmission_type\",data=carsome)\n",
    "plt.xticks(rotation=45)\n",
    "plt.show()"
   ]
  },
  {
   "cell_type": "markdown",
   "id": "476f2b11",
   "metadata": {},
   "source": [
    "+ Most of cars are range between 2013 to 2020.\n",
    "+ Most oldest car is Mercedes from 2004\n",
    "+ Most newest car are Mazda, Proton, Honda, Perodua, Nissan, BMW and Tesla from 2021"
   ]
  },
  {
   "cell_type": "code",
   "execution_count": 79,
   "id": "33a071b3",
   "metadata": {},
   "outputs": [
    {
     "data": {
      "image/png": "[encoded data removed]",
      "text/plain": [
       "<Figure size 648x360 with 1 Axes>"
      ]
     },
     "metadata": {
      "needs_background": "light"
     },
     "output_type": "display_data"
    }
   ],
   "source": [
    "plt.figure(figsize=(9,5))\n",
    "sns.lineplot(x='Cars_Name',y='Year',data=carsome)\n",
    "plt.xticks(rotation=45)\n",
    "plt.show()"
   ]
  },
  {
   "cell_type": "code",
   "execution_count": 80,
   "id": "d960d76d",
   "metadata": {},
   "outputs": [
    {
     "data": {
      "image/png": "[encoded data removed]",
      "text/plain": [
       "<Figure size 648x360 with 1 Axes>"
      ]
     },
     "metadata": {
      "needs_background": "light"
     },
     "output_type": "display_data"
    }
   ],
   "source": [
    "plt.figure(figsize=(9,5))\n",
    "sns.boxplot(x='Cars_Name',y='Year',data=carsome)\n",
    "plt.xticks(rotation=45)\n",
    "plt.show()"
   ]
  },
  {
   "cell_type": "markdown",
   "id": "7189dbbc",
   "metadata": {},
   "source": [
    "========================================================================================================================\n",
    "## Cars according to driven in km"
   ]
  },
  {
   "cell_type": "code",
   "execution_count": 81,
   "id": "e5821f81",
   "metadata": {},
   "outputs": [
    {
     "data": {
      "image/png": "[encoded data removed]",
      "text/plain": [
       "<Figure size 648x360 with 1 Axes>"
      ]
     },
     "metadata": {
      "needs_background": "light"
     },
     "output_type": "display_data"
    }
   ],
   "source": [
    "plt.figure(figsize=(9,5))\n",
    "sns.scatterplot(x='Cars_Name',y='Km',data=carsome)\n",
    "plt.xticks(rotation=45)\n",
    "plt.show()"
   ]
  },
  {
   "cell_type": "markdown",
   "id": "13b9f1e5",
   "metadata": {},
   "source": [
    "+ Most of the cars are driven Between 50000 To 120000 Km.\n",
    "+ Perodua Cars Driven More In Kilometres\n",
    "+ Proton Cars Driven Less in Kilometres"
   ]
  },
  {
   "cell_type": "code",
   "execution_count": 82,
   "id": "3cf97d72",
   "metadata": {},
   "outputs": [
    {
     "data": {
      "image/png": "[encoded data removed]",
      "text/plain": [
       "<Figure size 648x360 with 1 Axes>"
      ]
     },
     "metadata": {
      "needs_background": "light"
     },
     "output_type": "display_data"
    }
   ],
   "source": [
    "plt.figure(figsize=(9,5))\n",
    "sns.boxplot(x='Cars_Name',y='Km',data=carsome)\n",
    "plt.xticks(rotation=45)\n",
    "plt.show()"
   ]
  },
  {
   "cell_type": "code",
   "execution_count": 83,
   "id": "0683a8da",
   "metadata": {},
   "outputs": [
    {
     "data": {
      "image/png": "[encoded data removed]",
      "text/plain": [
       "<Figure size 648x360 with 1 Axes>"
      ]
     },
     "metadata": {
      "needs_background": "light"
     },
     "output_type": "display_data"
    }
   ],
   "source": [
    "plt.figure(figsize=(9,5))\n",
    "sns.lineplot(x='Cars_Name',y='Km',data=carsome)\n",
    "plt.xticks(rotation=45)\n",
    "plt.show()"
   ]
  },
  {
   "cell_type": "markdown",
   "id": "aa8c1ad0",
   "metadata": {},
   "source": [
    "=======================================================================================================================\n",
    "## Relation between Car price and year bought by first owner"
   ]
  },
  {
   "cell_type": "code",
   "execution_count": 84,
   "id": "9b5d4362",
   "metadata": {},
   "outputs": [
    {
     "data": {
      "image/png": "[encoded data removed]",
      "text/plain": [
       "<Figure size 648x360 with 1 Axes>"
      ]
     },
     "metadata": {
      "needs_background": "light"
     },
     "output_type": "display_data"
    }
   ],
   "source": [
    "plt.figure(figsize=(9,5))\n",
    "sns.lineplot(x='Year',y='Price_in_Rs',data=carsome)\n",
    "plt.show()"
   ]
  },
  {
   "cell_type": "markdown",
   "id": "872f2292",
   "metadata": {},
   "source": [
    "+ As the year of car increases the price of the car increases.\n",
    "+ Year between 2010-2012 has more density."
   ]
  },
  {
   "cell_type": "code",
   "execution_count": 96,
   "id": "de49f2e4",
   "metadata": {},
   "outputs": [
    {
     "data": {
      "image/png": "[encoded data removed]",
      "text/plain": [
       "<Figure size 648x360 with 1 Axes>"
      ]
     },
     "metadata": {
      "needs_background": "light"
     },
     "output_type": "display_data"
    }
   ],
   "source": [
    "plt.figure(figsize=(9,5))\n",
    "sns.countplot(x='Year',data=carsome,hue='SRS_Airbag')\n",
    "plt.show()"
   ]
  },
  {
   "cell_type": "markdown",
   "id": "98e436cb",
   "metadata": {},
   "source": [
    "+ Till 2012 airbags were not present in cars\n",
    "+ From 2013-2016 cars having airbags are uploaded more \n",
    "+ Between 2017-2021 cars with no airbags are more"
   ]
  },
  {
   "cell_type": "code",
   "execution_count": 97,
   "id": "f4976164",
   "metadata": {},
   "outputs": [
    {
     "data": {
      "image/png": "[encoded data removed]",
      "text/plain": [
       "<Figure size 648x360 with 1 Axes>"
      ]
     },
     "metadata": {
      "needs_background": "light"
     },
     "output_type": "display_data"
    }
   ],
   "source": [
    "plt.figure(figsize=(9,5))\n",
    "sns.countplot(x='Year',data=carsome,hue='Touchscreen_Audio_Display')\n",
    "plt.show()"
   ]
  },
  {
   "cell_type": "markdown",
   "id": "fc242cf4",
   "metadata": {},
   "source": [
    "+ Till 2012 Touchscreen_Audio_Display feature were not present in cars\n",
    "+ From 2013-2019 cars with no Touchscreen_Audio_Display feature are uploaded more \n",
    "+ Between 2020-2021 cars having Touchscreen_Audio_Display are more"
   ]
  },
  {
   "cell_type": "code",
   "execution_count": 98,
   "id": "c7e24809",
   "metadata": {},
   "outputs": [
    {
     "data": {
      "image/png": "[encoded data removed]",
      "text/plain": [
       "<Figure size 648x360 with 1 Axes>"
      ]
     },
     "metadata": {
      "needs_background": "light"
     },
     "output_type": "display_data"
    }
   ],
   "source": [
    "plt.figure(figsize=(9,5))\n",
    "sns.countplot(x='Year',data=carsome,hue='Keyless_Push_Star')\n",
    "plt.show()"
   ]
  },
  {
   "cell_type": "markdown",
   "id": "467aeade",
   "metadata": {},
   "source": [
    "+ Till 2012 Keyless_Push_Star feature were not present in car\n",
    "+ From 2013 each year cars with no Keyless_Push_Star feature is increases \n",
    "+ But from 2018-2021 cars having Keyless_Push_Star feature are more uploaded in carsome website"
   ]
  },
  {
   "cell_type": "code",
   "execution_count": 99,
   "id": "736ee0b2",
   "metadata": {},
   "outputs": [
    {
     "data": {
      "image/png": "[encoded data removed]",
      "text/plain": [
       "<Figure size 648x360 with 1 Axes>"
      ]
     },
     "metadata": {
      "needs_background": "light"
     },
     "output_type": "display_data"
    }
   ],
   "source": [
    "plt.figure(figsize=(9,5))\n",
    "sns.countplot(x='Year',data=carsome,hue='Transmission_type')\n",
    "plt.show()"
   ]
  },
  {
   "cell_type": "markdown",
   "id": "5d5def06",
   "metadata": {},
   "source": [
    "+ Automatic cars uploaded more carsome website"
   ]
  },
  {
   "cell_type": "markdown",
   "id": "c912b554",
   "metadata": {},
   "source": [
    "# MULTI-VARIATE ANALYSIS"
   ]
  },
  {
   "cell_type": "markdown",
   "id": "9c410da7",
   "metadata": {},
   "source": [
    "#### In Multi-variate analysis we have classied into three parts :\n",
    "+ Best recommended cars for lower middle class buyers\n",
    "+ Best recommended cars for middle class buyers\n",
    "+ Best recommended cars for premium class buyers"
   ]
  },
  {
   "cell_type": "markdown",
   "id": "d0fd284b",
   "metadata": {},
   "source": [
    "## Analysis for lower middle class buyers"
   ]
  },
  {
   "cell_type": "code",
   "execution_count": 100,
   "id": "5848ca1f",
   "metadata": {},
   "outputs": [],
   "source": [
    "carsome1=carsome[(carsome['Price_in_Rs'] >200000) & (carsome['Price_in_Rs'] < 550000)]"
   ]
  },
  {
   "cell_type": "code",
   "execution_count": 101,
   "id": "9af67a5c",
   "metadata": {},
   "outputs": [
    {
     "data": {
      "image/png": "[encoded data removed]",
      "text/plain": [
       "<Figure size 864x504 with 1 Axes>"
      ]
     },
     "metadata": {
      "needs_background": "light"
     },
     "output_type": "display_data"
    }
   ],
   "source": [
    "plt.figure(figsize=(12,7))\n",
    "sns.scatterplot(x='Price_in_Rs',y='Year',hue='Cars_Name',size=\"Transmission_type\",data=carsome1)\n",
    "plt.show()"
   ]
  },
  {
   "cell_type": "markdown",
   "id": "89c65241",
   "metadata": {},
   "source": [
    "+ Looking at the green and blue bubble, perodua and proton cars are more\n",
    "+ Automatic cars are more and expensive compared to manual\n",
    "+ Most of the cars are above 2014 bought "
   ]
  },
  {
   "cell_type": "markdown",
   "id": "074ccdbd",
   "metadata": {},
   "source": [
    "## Analysis for middle class buyers"
   ]
  },
  {
   "cell_type": "code",
   "execution_count": 102,
   "id": "10ac3063",
   "metadata": {},
   "outputs": [],
   "source": [
    "carsome2 = carsome[(carsome['Price_in_Rs'] >550000) & (carsome['Price_in_Rs'] < 1300000)]"
   ]
  },
  {
   "cell_type": "code",
   "execution_count": 103,
   "id": "10cf0775",
   "metadata": {},
   "outputs": [
    {
     "data": {
      "image/png": "[encoded data removed]",
      "text/plain": [
       "<Figure size 864x504 with 1 Axes>"
      ]
     },
     "metadata": {
      "needs_background": "light"
     },
     "output_type": "display_data"
    }
   ],
   "source": [
    "plt.figure(figsize=(12,7))\n",
    "sns.scatterplot(x='Year',y='Cars_Name',hue='Transmission_type',size=\"Price_in_Rs\",data=carsome2)\n",
    "plt.show()"
   ]
  },
  {
   "cell_type": "markdown",
   "id": "17947a75",
   "metadata": {},
   "source": [
    "+ All blue color bubble means all cars are automatic.\n",
    "+ Honda and Toyota provides high price range cars.\n",
    "+ Perodua provides wide range of price of cars. "
   ]
  },
  {
   "cell_type": "markdown",
   "id": "ed77edc6",
   "metadata": {},
   "source": [
    "## Analysis for premium class buyers"
   ]
  },
  {
   "cell_type": "code",
   "execution_count": 104,
   "id": "7034de93",
   "metadata": {},
   "outputs": [],
   "source": [
    "carsome3 = carsome[carsome['Price_in_Rs'] > 1300000]"
   ]
  },
  {
   "cell_type": "code",
   "execution_count": 105,
   "id": "0b3899ad",
   "metadata": {},
   "outputs": [
    {
     "data": {
      "image/png": "[encoded data removed]",
      "text/plain": [
       "<Figure size 864x504 with 1 Axes>"
      ]
     },
     "metadata": {
      "needs_background": "light"
     },
     "output_type": "display_data"
    }
   ],
   "source": [
    "plt.figure(figsize=(12,7))\n",
    "sns.scatterplot(x='Cars_Name',y='Year',hue='Transmission_type',size=\"Price_in_Rs\",data=carsome3)\n",
    "plt.show()"
   ]
  },
  {
   "cell_type": "markdown",
   "id": "01bc55d7",
   "metadata": {},
   "source": [
    "+ Honda, toyota and mercedes company provides wide range cars\n",
    "+ BMW company cars are expensive\n",
    "+ All cars are automatic\n",
    "+ Most of the cars are above 2016 bought"
   ]
  },
  {
   "cell_type": "markdown",
   "id": "22b543b7",
   "metadata": {},
   "source": [
    "=======================================================================================================================\n",
    "# Conclusion"
   ]
  },
  {
   "cell_type": "markdown",
   "id": "9b466901",
   "metadata": {},
   "source": [
    "#### Exploratory Data Analysis \n",
    "+ Most of the cars in Price in Rs range of 5.5 to 13 lakhs(IQR) means 50% of data in this range.Tesla cars are more expensive compare to other cars. Suzuki, Proton, Perodua and Nissan are less in prices. Proton, Honda, Toyota and Perodua gives varieties of cars with respect to price\n",
    "+ Most of the cars driven in between a range of 52Thousand km to 1lakhs km. Smallest driven car is 37 km i.e Proton Cars. Longest driven car is 2 lakhs km i.e Perodua Cars.\n",
    "+ Most of the cars is between a range of 2015 to 2018. Oldest car is Mercedes from 2004. Newest car are Mazda, Proton, Honda, Perodua, Nissan, BMW and Tesla from 2021.\n",
    "+ As the year of car increases the price of the car increases.Year between 2010-2012 has more density.\n",
    "+ Till 2012 Touchscreen_Audio_Display, airbags and Keyless_Push_Star feature were not present in cars.\n",
    "+ After 2013, cars having airbags feature are uploaded more. But, Touchscreen_Audio_Display and Keyless_Push_Star featuring cars are less uploaded.\n",
    "+ Automatic cars uploaded more carsome website\n",
    "\n",
    "#### Analysis for lower middle class buyers\n",
    "+ Perodua and Proton cars are more\n",
    "+ Automatic cars are more and expensive compared to manual\n",
    "+ Most of the cars are above 2014 bought\n",
    "\n",
    "#### Analysis for middle class buyers\n",
    "+ All cars are automatic.\n",
    "+ Honda and Toyota provides high price range cars.\n",
    "+ Perodua provides wide range of price of cars. \n",
    "\n",
    "#### Analysis for premium class buyers\n",
    "+ Honda, toyota and mercedes company provides wide range cars\n",
    "+ BMW company cars are expensive\n",
    "+ All cars are automatic\n",
    "+ Most of the cars are above 2016 bought"
   ]
  },
  {
   "cell_type": "code",
   "execution_count": null,
   "id": "814c522d",
   "metadata": {},
   "outputs": [],
   "source": []
  }
 ],
 "metadata": {
  "kernelspec": {
   "display_name": "Python 3 (ipykernel)",
   "language": "python",
   "name": "python3"
  },
  "language_info": {
   "codemirror_mode": {
    "name": "ipython",
    "version": 3
   },
   "file_extension": ".py",
   "mimetype": "text/x-python",
   "name": "python",
   "nbconvert_exporter": "python",
   "pygments_lexer": "ipython3",
   "version": "3.9.7"
  }
 },
 "nbformat": 4,
 "nbformat_minor": 5
}
